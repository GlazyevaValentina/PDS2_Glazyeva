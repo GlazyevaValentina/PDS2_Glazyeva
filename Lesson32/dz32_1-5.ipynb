{
 "cells": [
  {
   "cell_type": "markdown",
   "id": "58c9889e",
   "metadata": {},
   "source": [
    "##  Pandas"
   ]
  },
  {
   "cell_type": "markdown",
   "id": "a3ad2e1c",
   "metadata": {},
   "source": [
    "### Завдання"
   ]
  },
  {
   "cell_type": "markdown",
   "id": "aeb89e94",
   "metadata": {},
   "source": [
    "**1.Створіть датафрейм розміром 15х5, що містить наступні дані:**\n",
    "\n",
    "а) ім'я та прізвище студента;\n",
    "\n",
    "б) середній бал;\n",
    "\n",
    "в) оцінка за поточний екзамен;\n",
    "\n",
    "г) кількість спроб здачі поточного екзамену.\n",
    "\n",
    "**2.Додайте до датафрейму стовпчик, що містить дані про допуск студента на наступний курс.**\n",
    "\n",
    "**3.Виведіть мінімальний, максимальний, середній та медіанний показники середнього балу студентів.**\n",
    "\n",
    "**4.Виведіть кількість студентів, що здали поточний екзамен з першого разу.**\n",
    "\n",
    "**5.Збережіть будь-які дані з датафрейму у вигляді серії.**"
   ]
  },
  {
   "cell_type": "markdown",
   "id": "55b3fe2a",
   "metadata": {},
   "source": [
    "\n",
    "### Розв'язок"
   ]
  },
  {
   "cell_type": "code",
   "execution_count": 12,
   "id": "cdb66bfe",
   "metadata": {},
   "outputs": [],
   "source": [
    "import pandas as pd"
   ]
  },
  {
   "cell_type": "markdown",
   "id": "ce16c57d",
   "metadata": {},
   "source": [
    "**1.Датафрейм розміром 15х5.**"
   ]
  },
  {
   "cell_type": "code",
   "execution_count": 47,
   "id": "3be23946",
   "metadata": {
    "scrolled": false
   },
   "outputs": [
    {
     "data": {
      "text/html": [
       "<div>\n",
       "<style scoped>\n",
       "    .dataframe tbody tr th:only-of-type {\n",
       "        vertical-align: middle;\n",
       "    }\n",
       "\n",
       "    .dataframe tbody tr th {\n",
       "        vertical-align: top;\n",
       "    }\n",
       "\n",
       "    .dataframe thead th {\n",
       "        text-align: right;\n",
       "    }\n",
       "</style>\n",
       "<table border=\"1\" class=\"dataframe\">\n",
       "  <thead>\n",
       "    <tr style=\"text-align: right;\">\n",
       "      <th></th>\n",
       "      <th>Ім'я та прізвище студента</th>\n",
       "      <th>Середній бал</th>\n",
       "      <th>Оцінка за поточний екзамен</th>\n",
       "      <th>Кількість спроб здачі поточного екзамену</th>\n",
       "    </tr>\n",
       "  </thead>\n",
       "  <tbody>\n",
       "    <tr>\n",
       "      <th>0</th>\n",
       "      <td>Антонюк Антон</td>\n",
       "      <td>87.5</td>\n",
       "      <td>90</td>\n",
       "      <td>1</td>\n",
       "    </tr>\n",
       "    <tr>\n",
       "      <th>1</th>\n",
       "      <td>Білоус Дмитро</td>\n",
       "      <td>80.5</td>\n",
       "      <td>85</td>\n",
       "      <td>1</td>\n",
       "    </tr>\n",
       "    <tr>\n",
       "      <th>2</th>\n",
       "      <td>Вечеровська Людмила</td>\n",
       "      <td>60.0</td>\n",
       "      <td>65</td>\n",
       "      <td>2</td>\n",
       "    </tr>\n",
       "    <tr>\n",
       "      <th>3</th>\n",
       "      <td>Головань Олександр</td>\n",
       "      <td>59.5</td>\n",
       "      <td>65</td>\n",
       "      <td>2</td>\n",
       "    </tr>\n",
       "    <tr>\n",
       "      <th>4</th>\n",
       "      <td>Данішевський Вадим</td>\n",
       "      <td>94.5</td>\n",
       "      <td>90</td>\n",
       "      <td>1</td>\n",
       "    </tr>\n",
       "    <tr>\n",
       "      <th>5</th>\n",
       "      <td>Залеська Олена</td>\n",
       "      <td>75.5</td>\n",
       "      <td>85</td>\n",
       "      <td>1</td>\n",
       "    </tr>\n",
       "    <tr>\n",
       "      <th>6</th>\n",
       "      <td>Іванов Олександр</td>\n",
       "      <td>90.5</td>\n",
       "      <td>95</td>\n",
       "      <td>1</td>\n",
       "    </tr>\n",
       "    <tr>\n",
       "      <th>7</th>\n",
       "      <td>Іващенко Валентина</td>\n",
       "      <td>92.5</td>\n",
       "      <td>95</td>\n",
       "      <td>1</td>\n",
       "    </tr>\n",
       "    <tr>\n",
       "      <th>8</th>\n",
       "      <td>Карпач Сергій</td>\n",
       "      <td>67.5</td>\n",
       "      <td>75</td>\n",
       "      <td>2</td>\n",
       "    </tr>\n",
       "    <tr>\n",
       "      <th>9</th>\n",
       "      <td>Костюченко Світлана</td>\n",
       "      <td>80.0</td>\n",
       "      <td>85</td>\n",
       "      <td>1</td>\n",
       "    </tr>\n",
       "    <tr>\n",
       "      <th>10</th>\n",
       "      <td>Орлова Олена</td>\n",
       "      <td>95.5</td>\n",
       "      <td>100</td>\n",
       "      <td>1</td>\n",
       "    </tr>\n",
       "    <tr>\n",
       "      <th>11</th>\n",
       "      <td>Радько Денис</td>\n",
       "      <td>70.5</td>\n",
       "      <td>65</td>\n",
       "      <td>3</td>\n",
       "    </tr>\n",
       "    <tr>\n",
       "      <th>12</th>\n",
       "      <td>Скиба Валентина</td>\n",
       "      <td>95.5</td>\n",
       "      <td>100</td>\n",
       "      <td>1</td>\n",
       "    </tr>\n",
       "    <tr>\n",
       "      <th>13</th>\n",
       "      <td>Тищенко Іван</td>\n",
       "      <td>55.0</td>\n",
       "      <td>60</td>\n",
       "      <td>2</td>\n",
       "    </tr>\n",
       "    <tr>\n",
       "      <th>14</th>\n",
       "      <td>Шилан Віталій</td>\n",
       "      <td>74.5</td>\n",
       "      <td>80</td>\n",
       "      <td>1</td>\n",
       "    </tr>\n",
       "  </tbody>\n",
       "</table>\n",
       "</div>"
      ],
      "text/plain": [
       "   Ім'я та прізвище студента  Середній бал  Оцінка за поточний екзамен   \\\n",
       "0              Антонюк Антон          87.5                           90   \n",
       "1              Білоус Дмитро          80.5                           85   \n",
       "2        Вечеровська Людмила          60.0                           65   \n",
       "3         Головань Олександр          59.5                           65   \n",
       "4         Данішевський Вадим          94.5                           90   \n",
       "5             Залеська Олена          75.5                           85   \n",
       "6           Іванов Олександр          90.5                           95   \n",
       "7         Іващенко Валентина          92.5                           95   \n",
       "8              Карпач Сергій          67.5                           75   \n",
       "9        Костюченко Світлана          80.0                           85   \n",
       "10              Орлова Олена          95.5                          100   \n",
       "11              Радько Денис          70.5                           65   \n",
       "12           Скиба Валентина          95.5                          100   \n",
       "13              Тищенко Іван          55.0                           60   \n",
       "14             Шилан Віталій          74.5                           80   \n",
       "\n",
       "    Кількість спроб здачі поточного екзамену  \n",
       "0                                          1  \n",
       "1                                          1  \n",
       "2                                          2  \n",
       "3                                          2  \n",
       "4                                          1  \n",
       "5                                          1  \n",
       "6                                          1  \n",
       "7                                          1  \n",
       "8                                          2  \n",
       "9                                          1  \n",
       "10                                         1  \n",
       "11                                         3  \n",
       "12                                         1  \n",
       "13                                         2  \n",
       "14                                         1  "
      ]
     },
     "execution_count": 47,
     "metadata": {},
     "output_type": "execute_result"
    }
   ],
   "source": [
    "student_progress = pd.read_excel(\"dz32.xlsx\")\n",
    "student_progress"
   ]
  },
  {
   "cell_type": "markdown",
   "id": "7b39402d",
   "metadata": {},
   "source": [
    "**2.Додатковий стовпчик, що містить дані про допуск студента на наступний курс.**"
   ]
  },
  {
   "cell_type": "code",
   "execution_count": 48,
   "id": "6cdf12d6",
   "metadata": {},
   "outputs": [
    {
     "name": "stdout",
     "output_type": "stream",
     "text": [
      "[87.5, 80.5, 60.0, 59.5, 94.5, 75.5, 90.5, 92.5, 67.5, 80.0, 95.5, 70.5, 95.5, 55.0, 74.5]\n"
     ]
    }
   ],
   "source": [
    "average_point = student_progress[\"Середній бал\"].tolist()\n",
    "print(average_point)"
   ]
  },
  {
   "cell_type": "code",
   "execution_count": 50,
   "id": "cf35a3f4",
   "metadata": {},
   "outputs": [],
   "source": [
    "permit = []\n",
    "for value in average_point:\n",
    "    if value < 60:\n",
    "        permit.append(\"Недопуск\")\n",
    "    else:\n",
    "        permit.append(\"Допуск\")"
   ]
  },
  {
   "cell_type": "code",
   "execution_count": 51,
   "id": "efa34dd0",
   "metadata": {
    "scrolled": false
   },
   "outputs": [
    {
     "data": {
      "text/html": [
       "<div>\n",
       "<style scoped>\n",
       "    .dataframe tbody tr th:only-of-type {\n",
       "        vertical-align: middle;\n",
       "    }\n",
       "\n",
       "    .dataframe tbody tr th {\n",
       "        vertical-align: top;\n",
       "    }\n",
       "\n",
       "    .dataframe thead th {\n",
       "        text-align: right;\n",
       "    }\n",
       "</style>\n",
       "<table border=\"1\" class=\"dataframe\">\n",
       "  <thead>\n",
       "    <tr style=\"text-align: right;\">\n",
       "      <th></th>\n",
       "      <th>Ім'я та прізвище студента</th>\n",
       "      <th>Середній бал</th>\n",
       "      <th>Оцінка за поточний екзамен</th>\n",
       "      <th>Кількість спроб здачі поточного екзамену</th>\n",
       "      <th>Допуск на наступний курс</th>\n",
       "    </tr>\n",
       "  </thead>\n",
       "  <tbody>\n",
       "    <tr>\n",
       "      <th>0</th>\n",
       "      <td>Антонюк Антон</td>\n",
       "      <td>87.5</td>\n",
       "      <td>90</td>\n",
       "      <td>1</td>\n",
       "      <td>Допуск</td>\n",
       "    </tr>\n",
       "    <tr>\n",
       "      <th>1</th>\n",
       "      <td>Білоус Дмитро</td>\n",
       "      <td>80.5</td>\n",
       "      <td>85</td>\n",
       "      <td>1</td>\n",
       "      <td>Допуск</td>\n",
       "    </tr>\n",
       "    <tr>\n",
       "      <th>2</th>\n",
       "      <td>Вечеровська Людмила</td>\n",
       "      <td>60.0</td>\n",
       "      <td>65</td>\n",
       "      <td>2</td>\n",
       "      <td>Допуск</td>\n",
       "    </tr>\n",
       "    <tr>\n",
       "      <th>3</th>\n",
       "      <td>Головань Олександр</td>\n",
       "      <td>59.5</td>\n",
       "      <td>65</td>\n",
       "      <td>2</td>\n",
       "      <td>Недопуск</td>\n",
       "    </tr>\n",
       "    <tr>\n",
       "      <th>4</th>\n",
       "      <td>Данішевський Вадим</td>\n",
       "      <td>94.5</td>\n",
       "      <td>90</td>\n",
       "      <td>1</td>\n",
       "      <td>Допуск</td>\n",
       "    </tr>\n",
       "    <tr>\n",
       "      <th>5</th>\n",
       "      <td>Залеська Олена</td>\n",
       "      <td>75.5</td>\n",
       "      <td>85</td>\n",
       "      <td>1</td>\n",
       "      <td>Допуск</td>\n",
       "    </tr>\n",
       "    <tr>\n",
       "      <th>6</th>\n",
       "      <td>Іванов Олександр</td>\n",
       "      <td>90.5</td>\n",
       "      <td>95</td>\n",
       "      <td>1</td>\n",
       "      <td>Допуск</td>\n",
       "    </tr>\n",
       "    <tr>\n",
       "      <th>7</th>\n",
       "      <td>Іващенко Валентина</td>\n",
       "      <td>92.5</td>\n",
       "      <td>95</td>\n",
       "      <td>1</td>\n",
       "      <td>Допуск</td>\n",
       "    </tr>\n",
       "    <tr>\n",
       "      <th>8</th>\n",
       "      <td>Карпач Сергій</td>\n",
       "      <td>67.5</td>\n",
       "      <td>75</td>\n",
       "      <td>2</td>\n",
       "      <td>Допуск</td>\n",
       "    </tr>\n",
       "    <tr>\n",
       "      <th>9</th>\n",
       "      <td>Костюченко Світлана</td>\n",
       "      <td>80.0</td>\n",
       "      <td>85</td>\n",
       "      <td>1</td>\n",
       "      <td>Допуск</td>\n",
       "    </tr>\n",
       "    <tr>\n",
       "      <th>10</th>\n",
       "      <td>Орлова Олена</td>\n",
       "      <td>95.5</td>\n",
       "      <td>100</td>\n",
       "      <td>1</td>\n",
       "      <td>Допуск</td>\n",
       "    </tr>\n",
       "    <tr>\n",
       "      <th>11</th>\n",
       "      <td>Радько Денис</td>\n",
       "      <td>70.5</td>\n",
       "      <td>65</td>\n",
       "      <td>3</td>\n",
       "      <td>Допуск</td>\n",
       "    </tr>\n",
       "    <tr>\n",
       "      <th>12</th>\n",
       "      <td>Скиба Валентина</td>\n",
       "      <td>95.5</td>\n",
       "      <td>100</td>\n",
       "      <td>1</td>\n",
       "      <td>Допуск</td>\n",
       "    </tr>\n",
       "    <tr>\n",
       "      <th>13</th>\n",
       "      <td>Тищенко Іван</td>\n",
       "      <td>55.0</td>\n",
       "      <td>60</td>\n",
       "      <td>2</td>\n",
       "      <td>Недопуск</td>\n",
       "    </tr>\n",
       "    <tr>\n",
       "      <th>14</th>\n",
       "      <td>Шилан Віталій</td>\n",
       "      <td>74.5</td>\n",
       "      <td>80</td>\n",
       "      <td>1</td>\n",
       "      <td>Допуск</td>\n",
       "    </tr>\n",
       "  </tbody>\n",
       "</table>\n",
       "</div>"
      ],
      "text/plain": [
       "   Ім'я та прізвище студента  Середній бал  Оцінка за поточний екзамен   \\\n",
       "0              Антонюк Антон          87.5                           90   \n",
       "1              Білоус Дмитро          80.5                           85   \n",
       "2        Вечеровська Людмила          60.0                           65   \n",
       "3         Головань Олександр          59.5                           65   \n",
       "4         Данішевський Вадим          94.5                           90   \n",
       "5             Залеська Олена          75.5                           85   \n",
       "6           Іванов Олександр          90.5                           95   \n",
       "7         Іващенко Валентина          92.5                           95   \n",
       "8              Карпач Сергій          67.5                           75   \n",
       "9        Костюченко Світлана          80.0                           85   \n",
       "10              Орлова Олена          95.5                          100   \n",
       "11              Радько Денис          70.5                           65   \n",
       "12           Скиба Валентина          95.5                          100   \n",
       "13              Тищенко Іван          55.0                           60   \n",
       "14             Шилан Віталій          74.5                           80   \n",
       "\n",
       "    Кількість спроб здачі поточного екзамену Допуск на наступний курс  \n",
       "0                                          1                   Допуск  \n",
       "1                                          1                   Допуск  \n",
       "2                                          2                   Допуск  \n",
       "3                                          2                 Недопуск  \n",
       "4                                          1                   Допуск  \n",
       "5                                          1                   Допуск  \n",
       "6                                          1                   Допуск  \n",
       "7                                          1                   Допуск  \n",
       "8                                          2                   Допуск  \n",
       "9                                          1                   Допуск  \n",
       "10                                         1                   Допуск  \n",
       "11                                         3                   Допуск  \n",
       "12                                         1                   Допуск  \n",
       "13                                         2                 Недопуск  \n",
       "14                                         1                   Допуск  "
      ]
     },
     "execution_count": 51,
     "metadata": {},
     "output_type": "execute_result"
    }
   ],
   "source": [
    "student_progress[\"Допуск на наступний курс\"] = permit\n",
    "student_progress"
   ]
  },
  {
   "cell_type": "markdown",
   "id": "602344fa",
   "metadata": {},
   "source": [
    "**3.Мінімальний, максимальний, середній та медіанний показники середнього балу студентів.**"
   ]
  },
  {
   "cell_type": "code",
   "execution_count": 52,
   "id": "38c40b28",
   "metadata": {},
   "outputs": [
    {
     "data": {
      "text/plain": [
       "min       55.0\n",
       "max       95.5\n",
       "mean      78.6\n",
       "median    80.0\n",
       "Name: Середній бал, dtype: float64"
      ]
     },
     "execution_count": 52,
     "metadata": {},
     "output_type": "execute_result"
    }
   ],
   "source": [
    "student_progress[\"Середній бал\"].agg(['min','max', 'mean', 'median'])"
   ]
  },
  {
   "cell_type": "markdown",
   "id": "d60d5289",
   "metadata": {},
   "source": [
    "**4.Кількість студентів, що здали поточний екзамен з першого разу.**"
   ]
  },
  {
   "cell_type": "code",
   "execution_count": 53,
   "id": "af243b0f",
   "metadata": {},
   "outputs": [
    {
     "name": "stdout",
     "output_type": "stream",
     "text": [
      "10 студентів здало екзамен з першого разу\n"
     ]
    }
   ],
   "source": [
    "print(f'{len(student_progress[student_progress[\"Кількість спроб здачі поточного екзамену\"]==1])} студентів здало екзамен з першого разу')"
   ]
  },
  {
   "cell_type": "markdown",
   "id": "c99f500e",
   "metadata": {},
   "source": [
    "**5.Серія з датафрейму.**\n",
    "\n",
    "Ім'я та прізвище студента"
   ]
  },
  {
   "cell_type": "code",
   "execution_count": 46,
   "id": "0d4e0519",
   "metadata": {},
   "outputs": [
    {
     "name": "stdout",
     "output_type": "stream",
     "text": [
      "Список студентів\n"
     ]
    },
    {
     "data": {
      "text/plain": [
       "0           Антонюк Антон\n",
       "1           Білоус Дмитро\n",
       "2     Вечеровська Людмила\n",
       "3      Головань Олександр\n",
       "4      Данішевський Вадим\n",
       "5          Залеська Олена\n",
       "6        Іванов Олександр\n",
       "7      Іващенко Валентина\n",
       "8           Карпач Сергій\n",
       "9     Костюченко Світлана\n",
       "10           Орлова Олена\n",
       "11           Радько Денис\n",
       "12        Скиба Валентина\n",
       "13           Тищенко Іван\n",
       "14          Шилан Віталій\n",
       "Name: Ім'я та прізвище студента, dtype: object"
      ]
     },
     "execution_count": 46,
     "metadata": {},
     "output_type": "execute_result"
    }
   ],
   "source": [
    "print(\"Список студентів\")\n",
    "spisok = student_progress[(\"Ім'я та прізвище студента\")]\n",
    "spisok"
   ]
  }
 ],
 "metadata": {
  "kernelspec": {
   "display_name": "Python 3 (ipykernel)",
   "language": "python",
   "name": "python3"
  },
  "language_info": {
   "codemirror_mode": {
    "name": "ipython",
    "version": 3
   },
   "file_extension": ".py",
   "mimetype": "text/x-python",
   "name": "python",
   "nbconvert_exporter": "python",
   "pygments_lexer": "ipython3",
   "version": "3.10.7"
  }
 },
 "nbformat": 4,
 "nbformat_minor": 5
}
