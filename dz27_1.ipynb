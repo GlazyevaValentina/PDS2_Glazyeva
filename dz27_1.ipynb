{
 "cells": [
  {
   "cell_type": "markdown",
   "id": "58c9889e",
   "metadata": {},
   "source": [
    "##  Розподіл вибірки"
   ]
  },
  {
   "cell_type": "markdown",
   "id": "a3ad2e1c",
   "metadata": {},
   "source": [
    "### Задача 1"
   ]
  },
  {
   "cell_type": "markdown",
   "id": "aeb89e94",
   "metadata": {},
   "source": [
    "Мікропроцесор має 10000 транзисторів, які працюють незалежно один від одного. Імовірність того, що транзистор вийде з ладу під час роботи, є величиною малоймовірною і становить 0,0007. Визначити математичне очікування **M(X)** і середнє квадратичне відхилення **S(X)** випадкової величини **X** - числа транзисторів, що вийдуть із ладу під час роботи мікропроцесора."
   ]
  },
  {
   "cell_type": "markdown",
   "id": "55b3fe2a",
   "metadata": {},
   "source": [
    "### Розв'язок"
   ]
  },
  {
   "cell_type": "markdown",
   "id": "76c967bf",
   "metadata": {},
   "source": [
    "Задача задовільняє усім законам пуассонівського розподілу:\n",
    "\n",
    "кількість випробувань **n = 10000** велика;\n",
    "\n",
    "імовірність **р = 0,0007** близька до нуля;\n",
    "\n",
    "їх добуток **a = n ∙ p = 7 < 10**.\n",
    "\n",
    "\n",
    "На основі даних обчислюємо:"
   ]
  },
  {
   "cell_type": "markdown",
   "id": "e9d32549",
   "metadata": {},
   "source": [
    "### 1. Математичне очікування:"
   ]
  },
  {
   "cell_type": "markdown",
   "id": "6a5bc656",
   "metadata": {},
   "source": [
    "Для пуассонівського закону розподілу ймовірностей **математичне сподівання** і **дисперсія** рівні добутку кількості дослідів на ймовірність сприятливої події."
   ]
  },
  {
   "cell_type": "markdown",
   "id": "38d39ddc",
   "metadata": {},
   "source": [
    "$ M(X) = n ∙ p = 10000 ∙ 0,0007 = 7 $"
   ]
  },
  {
   "cell_type": "code",
   "execution_count": 5,
   "id": "2afd2ddb",
   "metadata": {},
   "outputs": [
    {
     "data": {
      "text/plain": [
       "7.0"
      ]
     },
     "execution_count": 5,
     "metadata": {},
     "output_type": "execute_result"
    }
   ],
   "source": [
    "10000*0.0007"
   ]
  },
  {
   "cell_type": "markdown",
   "id": "70370439",
   "metadata": {},
   "source": [
    "### 2. Дисперсія:"
   ]
  },
  {
   "cell_type": "markdown",
   "id": "dd652167",
   "metadata": {},
   "source": [
    "$ D(X) =  M(X) = n ∙ p = 10000 ∙ 0,0007 = 7 $"
   ]
  },
  {
   "cell_type": "markdown",
   "id": "3055d879",
   "metadata": {},
   "source": [
    "### 3. Середнє квадратичне відхилення:"
   ]
  },
  {
   "cell_type": "markdown",
   "id": "396b6db7",
   "metadata": {},
   "source": [
    "$ \\sigma_x = \\sqrt{D(X)} = \\sqrt7  \\approx{2,646} $"
   ]
  },
  {
   "cell_type": "code",
   "execution_count": 6,
   "id": "7a8064c1",
   "metadata": {},
   "outputs": [
    {
     "data": {
      "text/plain": [
       "2.6457513110645907"
      ]
     },
     "execution_count": 6,
     "metadata": {},
     "output_type": "execute_result"
    }
   ],
   "source": [
    "7**0.5"
   ]
  },
  {
   "cell_type": "markdown",
   "id": "966914a2",
   "metadata": {},
   "source": [
    "### Відповідь: "
   ]
  },
  {
   "cell_type": "markdown",
   "id": "b64b5fe3",
   "metadata": {},
   "source": [
    "Математичне очікування **$M(X) = 7$**.\n",
    "\n",
    "Середнє квадратичне відхилення **$ S(X) \\approx{2,646}$**."
   ]
  }
 ],
 "metadata": {
  "kernelspec": {
   "display_name": "Python 3 (ipykernel)",
   "language": "python",
   "name": "python3"
  },
  "language_info": {
   "codemirror_mode": {
    "name": "ipython",
    "version": 3
   },
   "file_extension": ".py",
   "mimetype": "text/x-python",
   "name": "python",
   "nbconvert_exporter": "python",
   "pygments_lexer": "ipython3",
   "version": "3.10.7"
  }
 },
 "nbformat": 4,
 "nbformat_minor": 5
}
