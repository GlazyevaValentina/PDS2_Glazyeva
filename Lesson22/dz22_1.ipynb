{
 "cells": [
  {
   "cell_type": "markdown",
   "id": "228b815c",
   "metadata": {},
   "source": [
    "## Task 1 Lesson 22"
   ]
  },
  {
   "cell_type": "markdown",
   "id": "f1f66557",
   "metadata": {},
   "source": [
    "--------------"
   ]
  },
  {
   "cell_type": "markdown",
   "id": "fcc02d95",
   "metadata": {},
   "source": [
    "Total students = 37\n",
    "\n",
    "|M| = 15       # Maths\n",
    "\n",
    "|Ph| = 16      # Physics\n",
    "\n",
    "|Ch| = 19      # Chemistry\n",
    "\n",
    "|M Ո Ph| = 7\n",
    "\n",
    "|M Ո Ch| = 9\n",
    "\n",
    "|Ph Ո Ch| = 6\n",
    "\n",
    "|M Ո Ph Ո Ch| = 4"
   ]
  },
  {
   "cell_type": "markdown",
   "id": "886023bd",
   "metadata": {},
   "source": [
    "## Inclusion–exclusion principle"
   ]
  },
  {
   "cell_type": "markdown",
   "id": "8668ceaa",
   "metadata": {},
   "source": [
    "To solve this task, you need to use the formula:\n",
    "   \n",
    "|A ꓴ B ꓴ c| = |A| + |B| + |C| - |A Ո B| - |A Ո C| - |B Ո C| + |A Ո B Ո C|"
   ]
  },
  {
   "cell_type": "markdown",
   "id": "1c919933",
   "metadata": {},
   "source": [
    "|M| + |Ph| + |Ch| - |M Ո Ph| - |M Ո Ch| - |Ph Ո Ch| + |M Ո Ph Ո Ch| # The number of the best students who received excellent maarks"
   ]
  },
  {
   "cell_type": "code",
   "execution_count": 1,
   "id": "253450f6",
   "metadata": {},
   "outputs": [
    {
     "data": {
      "text/plain": [
       "32"
      ]
     },
     "execution_count": 1,
     "metadata": {},
     "output_type": "execute_result"
    }
   ],
   "source": [
    "15 + 16 + 19 - 7 - 9 - 6 + 4"
   ]
  },
  {
   "cell_type": "markdown",
   "id": "d13743bd",
   "metadata": {},
   "source": [
    "## Answer:"
   ]
  },
  {
   "cell_type": "markdown",
   "id": "f50dfd66",
   "metadata": {},
   "source": [
    "## 32 students who received at least one excellent grade"
   ]
  },
  {
   "cell_type": "markdown",
   "id": "a4cb5dd9",
   "metadata": {},
   "source": [
    "To find the number of students who received only one excellent mark, you need to se formula:"
   ]
  },
  {
   "cell_type": "markdown",
   "id": "5bb2ac9e",
   "metadata": {},
   "source": [
    "|M| \\ |Ph| \\ |Ch| = (|M| - |M Ո Ph| - (|M Ո Ch| - |M Ո Ph Ո Ch|)) +\n",
    "                 (|Ph| -|M Ո Ph| - (|Ph Ո Ch| - |M Ո Ph Ո Ch|)) +\n",
    "                 (|Ch| - |Ph Ո Ch| - (|M Ո Ch| - |M Ո Ph Ո Ch|))"
   ]
  },
  {
   "cell_type": "code",
   "execution_count": 13,
   "id": "05fa110a",
   "metadata": {},
   "outputs": [
    {
     "data": {
      "text/plain": [
       "18"
      ]
     },
     "execution_count": 13,
     "metadata": {},
     "output_type": "execute_result"
    }
   ],
   "source": [
    "(15 - 7 - (9 - 4)) + (16 - 7 - (6 -4)) + (19 - 6 - (9 - 4))"
   ]
  },
  {
   "cell_type": "markdown",
   "id": "26ab42a2",
   "metadata": {},
   "source": [
    "------------"
   ]
  },
  {
   "cell_type": "markdown",
   "id": "e4ae031f",
   "metadata": {},
   "source": [
    "## Answer:"
   ]
  },
  {
   "cell_type": "markdown",
   "id": "e1d61f82",
   "metadata": {},
   "source": [
    "## 18 students have only one excellent mark"
   ]
  },
  {
   "cell_type": "markdown",
   "id": "963cb631",
   "metadata": {},
   "source": [
    "-------------"
   ]
  },
  {
   "cell_type": "markdown",
   "id": "b3a0f1d8",
   "metadata": {},
   "source": [
    "## Success of students"
   ]
  },
  {
   "cell_type": "markdown",
   "id": "8537e3d9",
   "metadata": {},
   "source": [
    "![Alt-text](About_students.jpg 'About students')"
   ]
  }
 ],
 "metadata": {
  "kernelspec": {
   "display_name": "Python 3 (ipykernel)",
   "language": "python",
   "name": "python3"
  },
  "language_info": {
   "codemirror_mode": {
    "name": "ipython",
    "version": 3
   },
   "file_extension": ".py",
   "mimetype": "text/x-python",
   "name": "python",
   "nbconvert_exporter": "python",
   "pygments_lexer": "ipython3",
   "version": "3.10.7"
  }
 },
 "nbformat": 4,
 "nbformat_minor": 5
}
