{
 "cells": [
  {
   "cell_type": "markdown",
   "id": "17518ded",
   "metadata": {},
   "source": [
    "## Task 2 Lesson 22"
   ]
  },
  {
   "cell_type": "markdown",
   "id": "331ad4d8",
   "metadata": {},
   "source": [
    "------------------------------"
   ]
  },
  {
   "cell_type": "markdown",
   "id": "0b2f09fa",
   "metadata": {},
   "source": [
    "September days = 30\n",
    "\n",
    "|R| = 12 # Rainy days\n",
    "\n",
    "|W| = 8  # Windy days\n",
    "\n",
    "|C| = 4  # Cold days\n",
    "\n",
    "|R Ո W| = 5\n",
    "\n",
    "|R Ո C| = 3\n",
    "\n",
    "|W Ո C| = 2\n",
    "\n",
    "|R Ո W Ո C| = 1\n",
    "\n",
    "How many days the weather was good?"
   ]
  },
  {
   "cell_type": "markdown",
   "id": "b573a711",
   "metadata": {},
   "source": [
    "---------------------------------"
   ]
  },
  {
   "cell_type": "markdown",
   "id": "89f850ed",
   "metadata": {},
   "source": [
    "To solve this task, you need to use the formula\n",
    "\n",
    "|A ꓴ B ꓴ c| = |A| + |B| + |C| - |A Ո B| - |A Ո C| - |B Ո C| + |A Ո B Ո C|"
   ]
  },
  {
   "cell_type": "markdown",
   "id": "9b6ff6e9",
   "metadata": {},
   "source": [
    "|R| + |W| + |C| - |R Ո W| - |R Ո C| - |W Ո C| + |R Ո W Ո C| = |R ꓴ W ꓴ C| # The days, when the weathwer was bad"
   ]
  },
  {
   "cell_type": "code",
   "execution_count": 1,
   "id": "c28cb2ac",
   "metadata": {},
   "outputs": [
    {
     "data": {
      "text/plain": [
       "15"
      ]
     },
     "execution_count": 1,
     "metadata": {},
     "output_type": "execute_result"
    }
   ],
   "source": [
    "12 + 8 + 4 - 5 - 3 - 2 + 1"
   ]
  },
  {
   "cell_type": "markdown",
   "id": "5af78390",
   "metadata": {},
   "source": [
    "September days - Bad weather days = Good weather days"
   ]
  },
  {
   "cell_type": "code",
   "execution_count": 7,
   "id": "1fbe02de",
   "metadata": {},
   "outputs": [
    {
     "data": {
      "text/plain": [
       "15"
      ]
     },
     "execution_count": 7,
     "metadata": {},
     "output_type": "execute_result"
    }
   ],
   "source": [
    "30 - 15"
   ]
  },
  {
   "cell_type": "markdown",
   "id": "2d803a51",
   "metadata": {},
   "source": [
    "-----------------------------------"
   ]
  },
  {
   "cell_type": "markdown",
   "id": "9a5c8e31",
   "metadata": {},
   "source": [
    "## Answer:"
   ]
  },
  {
   "cell_type": "markdown",
   "id": "c00bbea3",
   "metadata": {},
   "source": [
    "## There were 15 days with good weather in september"
   ]
  },
  {
   "cell_type": "markdown",
   "id": "5b1efcc9",
   "metadata": {},
   "source": [
    "## September Weather"
   ]
  },
  {
   "cell_type": "markdown",
   "id": "93f9d48a",
   "metadata": {},
   "source": [
    "![Alt-text](September_weather.jpg 'Whach was the weather in September')"
   ]
  }
 ],
 "metadata": {
  "kernelspec": {
   "display_name": "Python 3 (ipykernel)",
   "language": "python",
   "name": "python3"
  },
  "language_info": {
   "codemirror_mode": {
    "name": "ipython",
    "version": 3
   },
   "file_extension": ".py",
   "mimetype": "text/x-python",
   "name": "python",
   "nbconvert_exporter": "python",
   "pygments_lexer": "ipython3",
   "version": "3.10.7"
  }
 },
 "nbformat": 4,
 "nbformat_minor": 5
}
