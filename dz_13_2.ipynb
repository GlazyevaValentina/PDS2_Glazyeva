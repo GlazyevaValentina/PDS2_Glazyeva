{
 "cells": [
  {
   "cell_type": "code",
   "execution_count": 9,
   "id": "6e8a5413",
   "metadata": {
    "scrolled": false
   },
   "outputs": [
    {
     "name": "stdout",
     "output_type": "stream",
     "text": [
      "Average sorting time = 0.29669415950775146\n",
      "Average sorting time = 0.36872761249542235\n",
      "Average sorting time = 0.474627685546875\n"
     ]
    }
   ],
   "source": [
    "import random\n",
    "from random_words import RandomWords\n",
    "import time\n",
    "\n",
    "int_list = []\n",
    "float_list = []\n",
    "str_list = []\n",
    "\n",
    "w = RandomWords()\n",
    "\n",
    "for i in range(0, 5000):\n",
    "    int_list.append(random.randint(0, 1000))\n",
    "    float_list.append(random.uniform(0.1, 100.0))\n",
    "    str_list.append(w.random_words())\n",
    "\n",
    "\n",
    "\n",
    "# Bubble Sort Algorithm\n",
    "def bubble_sort(data,numb_iter):\n",
    "    length = len(data)\n",
    "    counter_iter = []\n",
    "    for n in range(1, numb_iter + 1):\n",
    "        start = time.time()\n",
    "        for iIndex in range(length):\n",
    "            swapped = False\n",
    "            for jIndex in range(0, length - iIndex - 1):\n",
    "                if data[jIndex] > data[jIndex + 1]:\n",
    "                    data[jIndex], data[jIndex + 1] = data[jIndex + 1], data[jIndex]\n",
    "                    swapped = True\n",
    "\n",
    "            if not swapped:\n",
    "                break\n",
    "        end = time.time()\n",
    "        requate_time = end - start\n",
    "        counter_iter.append(requate_time)\n",
    "\n",
    "    #print(\"Bubble Sorting List: \", data)\n",
    "    #print(f\"Average sorting time = {sum(counter_iter)/numb_iter}\")\n",
    "\n",
    "\n",
    "copy_my_list = int_list\n",
    "bubble_sort(copy_my_list, 10)\n",
    "\n",
    "\n",
    "copy_my_float_list = float_list\n",
    "bubble_sort(copy_my_float_list, 10)\n",
    "\n",
    "copy_my_str_list = str_list\n",
    "bubble_sort(copy_my_str_list, 10)"
   ]
  },
  {
   "cell_type": "code",
   "execution_count": 20,
   "id": "479a53bd",
   "metadata": {},
   "outputs": [
    {
     "name": "stdout",
     "output_type": "stream",
     "text": [
      "6.3 ms ± 457 µs per loop (mean ± std. dev. of 7 runs, 100 loops each)\n"
     ]
    }
   ],
   "source": [
    "%%timeit\n",
    "# Bubble Sort Algorithm\n",
    "def bubble_sort(data,numb_iter):\n",
    "    length = len(data)\n",
    "    counter_iter = []\n",
    "    for n in range(1, numb_iter + 1):\n",
    "        start = time.time()\n",
    "        for iIndex in range(length):\n",
    "            swapped = False\n",
    "            for jIndex in range(0, length - iIndex - 1):\n",
    "                if data[jIndex] > data[jIndex + 1]:\n",
    "                    data[jIndex], data[jIndex + 1] = data[jIndex + 1], data[jIndex]\n",
    "                    swapped = True\n",
    "\n",
    "            if not swapped:\n",
    "                break\n",
    "        end = time.time()\n",
    "        requate_time = end - start\n",
    "        counter_iter.append(requate_time)\n",
    "\n",
    "copy_my_list = int_list\n",
    "bubble_sort(copy_my_list, 10)"
   ]
  },
  {
   "cell_type": "code",
   "execution_count": 21,
   "id": "ec01d411",
   "metadata": {},
   "outputs": [
    {
     "name": "stdout",
     "output_type": "stream",
     "text": [
      "6.64 ms ± 416 µs per loop (mean ± std. dev. of 7 runs, 100 loops each)\n"
     ]
    }
   ],
   "source": [
    "%%timeit\n",
    "# Bubble Sort Algorithm\n",
    "def bubble_sort(data,numb_iter):\n",
    "    length = len(data)\n",
    "    counter_iter = []\n",
    "    for n in range(1, numb_iter + 1):\n",
    "        start = time.time()\n",
    "        for iIndex in range(length):\n",
    "            swapped = False\n",
    "            for jIndex in range(0, length - iIndex - 1):\n",
    "                if data[jIndex] > data[jIndex + 1]:\n",
    "                    data[jIndex], data[jIndex + 1] = data[jIndex + 1], data[jIndex]\n",
    "                    swapped = True\n",
    "\n",
    "            if not swapped:\n",
    "                break\n",
    "        end = time.time()\n",
    "        requate_time = end - start\n",
    "        counter_iter.append(requate_time)\n",
    "\n",
    "copy_my_float_list = float_list\n",
    "bubble_sort(copy_my_float_list, 10)\n"
   ]
  },
  {
   "cell_type": "code",
   "execution_count": 22,
   "id": "5ad26483",
   "metadata": {},
   "outputs": [
    {
     "name": "stdout",
     "output_type": "stream",
     "text": [
      "10.4 ms ± 2.11 ms per loop (mean ± std. dev. of 7 runs, 100 loops each)\n"
     ]
    }
   ],
   "source": [
    "%%timeit\n",
    "# Bubble Sort Algorithm\n",
    "def bubble_sort(data,numb_iter):\n",
    "    length = len(data)\n",
    "    counter_iter = []\n",
    "    for n in range(1, numb_iter + 1):\n",
    "        start = time.time()\n",
    "        for iIndex in range(length):\n",
    "            swapped = False\n",
    "            for jIndex in range(0, length - iIndex - 1):\n",
    "                if data[jIndex] > data[jIndex + 1]:\n",
    "                    data[jIndex], data[jIndex + 1] = data[jIndex + 1], data[jIndex]\n",
    "                    swapped = True\n",
    "\n",
    "            if not swapped:\n",
    "                break\n",
    "        end = time.time()\n",
    "        requate_time = end - start\n",
    "        counter_iter.append(requate_time)\n",
    "\n",
    "copy_my_str_list = str_list\n",
    "bubble_sort(copy_my_str_list, 10)"
   ]
  }
 ],
 "metadata": {
  "kernelspec": {
   "display_name": "Python 3 (ipykernel)",
   "language": "python",
   "name": "python3"
  },
  "language_info": {
   "codemirror_mode": {
    "name": "ipython",
    "version": 3
   },
   "file_extension": ".py",
   "mimetype": "text/x-python",
   "name": "python",
   "nbconvert_exporter": "python",
   "pygments_lexer": "ipython3",
   "version": "3.10.7"
  }
 },
 "nbformat": 4,
 "nbformat_minor": 5
}
