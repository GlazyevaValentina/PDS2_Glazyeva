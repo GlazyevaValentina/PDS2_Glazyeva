{
 "cells": [
  {
   "cell_type": "markdown",
   "id": "58c9889e",
   "metadata": {},
   "source": [
    "##  Залежність між випадковими величинами"
   ]
  },
  {
   "cell_type": "markdown",
   "id": "a3ad2e1c",
   "metadata": {},
   "source": [
    "### Задача 2"
   ]
  },
  {
   "cell_type": "markdown",
   "id": "aeb89e94",
   "metadata": {},
   "source": [
    "\n",
    "Розглянемо дві різні умовні акції X і У (таблиця додається). Для кожної з них за допомогою статистичних досліджень були розраховані відносні частоти очікуваних прибутків залежно від п'яти станів економічного середовища: значне піднесення (ЗП), незначне піднесення (НЗП), стагнація (С), незначний спад (НЗС), значний спад (ЗС). Ці дані внесено відповідно в останній рядок і останній стовпчик таблиці. Залежно від економічного середовища прогнозовані норми очікуванихприбутків у відсотках задані відповідно у першому рядку та першому стовпчику таблиці. У клітинках на перетині X і У проставлені ймовірності появи норм відсотків значень (х,у)."
   ]
  },
  {
   "cell_type": "markdown",
   "id": "4c1af517",
   "metadata": {},
   "source": [
    "|  Y\\X   | 19        | 5         |2          |1          | - 5      |  P(y)   |\n",
    "|:---    | :---:     | :---:     | :---:     | :---:     | :---:    | :---:   |\n",
    "|   20   | 0,01      | 0,03      | 0,02      | 0,03      | 0,01     | 0,1     |\n",
    "|   10   | 0,03      | 0,09      | 0,06      | 0,09      | 0,03     | 0,3     |\n",
    "|   2    | 0,02      | 0,06      | 0,04      | 0,06      | 0,02     | 0,2     |\n",
    "| - 2    | 0,03      | 0,09      | 0,06      | 0,09      | 0,03     | 0,3     |\n",
    "| - 8    | 0,01      | 0,03      | 0,02      | 0,03      | 0,01     | 0,1     |\n",
    "| P(x)   | 0,1       | 0,3       | 0,2       | 0,3       | 0,1      |   1     |"
   ]
  },
  {
   "cell_type": "markdown",
   "id": "c34f5e7c",
   "metadata": {},
   "source": [
    "Необхідно:\n",
    "\n",
    " 1. обчислити очікувану норму прибутку по кжній з акцій;\n",
    "\n",
    " 2. оцінити ступінь ризику обох акцій за допомогою середньоквадратичного відхилення;\n",
    "\n",
    " 3. проаналізувати наявність зв'язку між акціями X та Y за допомогою коефіцієнтів коваріації та кореляції."
   ]
  },
  {
   "cell_type": "markdown",
   "id": "55b3fe2a",
   "metadata": {},
   "source": [
    "### Розв'язок"
   ]
  },
  {
   "cell_type": "markdown",
   "id": "f8d99a61",
   "metadata": {},
   "source": [
    "### 1. Очікувана норма прибутку по кжній з акцій (математичне очікування):"
   ]
  },
  {
   "cell_type": "markdown",
   "id": "f0160b74",
   "metadata": {},
   "source": [
    "|  X   | 10     | 5     | 2     | 1     | - 5   |\n",
    "|:---  | :---:  | :---: | :---: | :---: | :---: |\n",
    "| P(x) | 0,1    | 0,3   | 0,2   | 0,3   | 0,1   |"
   ]
  },
  {
   "cell_type": "code",
   "execution_count": 19,
   "id": "9a73498e",
   "metadata": {
    "scrolled": true
   },
   "outputs": [
    {
     "data": {
      "text/plain": [
       "2.6999999999999997"
      ]
     },
     "execution_count": 19,
     "metadata": {},
     "output_type": "execute_result"
    }
   ],
   "source": [
    "10*0.1 + 5*0.3 + 2*0.2 + 1*0.3 - 5*0.1"
   ]
  },
  {
   "cell_type": "markdown",
   "id": "47b607f7",
   "metadata": {},
   "source": [
    "|  Y   | 20     | 10     | 2      | - 2    | - 8   |\n",
    "|:---  | :---:  | :---:  | :---:  | :---:  | :---: |\n",
    "| P(y) | 0,1    | 0,3    | 0,2    | 0,3    | 0,1   |"
   ]
  },
  {
   "cell_type": "code",
   "execution_count": 20,
   "id": "b6513875",
   "metadata": {},
   "outputs": [
    {
     "data": {
      "text/plain": [
       "4.000000000000001"
      ]
     },
     "execution_count": 20,
     "metadata": {},
     "output_type": "execute_result"
    }
   ],
   "source": [
    "20*0.1 + 10*0.3 + 2*0.2 - 2*0.3 -8*0.1"
   ]
  },
  {
   "cell_type": "markdown",
   "id": "8fd4fe2f",
   "metadata": {},
   "source": [
    "**Математичне очікування**\n",
    "\n",
    "**M(X) = 2,7**\n",
    "\n",
    "**M(Y) = 4**"
   ]
  },
  {
   "cell_type": "markdown",
   "id": "8eacfb38",
   "metadata": {},
   "source": [
    "### 2. Ступінь ризику обох акцій (середньоквадратичне відхилення):"
   ]
  },
  {
   "cell_type": "markdown",
   "id": "630c1f2e",
   "metadata": {},
   "source": [
    "$ D(X) = M(X^2) - (M(X))^2 $"
   ]
  },
  {
   "cell_type": "code",
   "execution_count": 21,
   "id": "39c63581",
   "metadata": {},
   "outputs": [
    {
     "data": {
      "text/plain": [
       "21.1"
      ]
     },
     "execution_count": 21,
     "metadata": {},
     "output_type": "execute_result"
    }
   ],
   "source": [
    "10**2*0.1 + 5**2*0.3 + 2**2*0.2 + 1*0.3 + (-5)**2*0.1"
   ]
  },
  {
   "cell_type": "code",
   "execution_count": 22,
   "id": "0bacac3f",
   "metadata": {},
   "outputs": [
    {
     "data": {
      "text/plain": [
       "13.81"
      ]
     },
     "execution_count": 22,
     "metadata": {},
     "output_type": "execute_result"
    }
   ],
   "source": [
    "21.1 - 2.7**2"
   ]
  },
  {
   "cell_type": "markdown",
   "id": "5ac606d7",
   "metadata": {},
   "source": [
    "$ D(Y) = M(Y^2) - (M(Y))^2 $"
   ]
  },
  {
   "cell_type": "code",
   "execution_count": 23,
   "id": "eb9da073",
   "metadata": {},
   "outputs": [
    {
     "data": {
      "text/plain": [
       "78.4"
      ]
     },
     "execution_count": 23,
     "metadata": {},
     "output_type": "execute_result"
    }
   ],
   "source": [
    "20**2*0.1 + 10**2*0.3 + 2**2*0.2 + (-2)**2*0.3 + (-8)**2*0.1"
   ]
  },
  {
   "cell_type": "code",
   "execution_count": 24,
   "id": "776f05bf",
   "metadata": {
    "scrolled": true
   },
   "outputs": [
    {
     "data": {
      "text/plain": [
       "62.400000000000006"
      ]
     },
     "execution_count": 24,
     "metadata": {},
     "output_type": "execute_result"
    }
   ],
   "source": [
    "78.4 - 4**2"
   ]
  },
  {
   "cell_type": "markdown",
   "id": "16bc5503",
   "metadata": {},
   "source": [
    "**Дисперсія**\n",
    "\n",
    "**D(X) = 13,81**\n",
    "\n",
    "**D(Y) = 62,4**"
   ]
  },
  {
   "cell_type": "markdown",
   "id": "13552cce",
   "metadata": {},
   "source": [
    "$ \\sigma_x = \\sqrt{D(X)} $"
   ]
  },
  {
   "cell_type": "code",
   "execution_count": 25,
   "id": "8545ccef",
   "metadata": {},
   "outputs": [
    {
     "data": {
      "text/plain": [
       "3.7161808352124095"
      ]
     },
     "execution_count": 25,
     "metadata": {},
     "output_type": "execute_result"
    }
   ],
   "source": [
    "13.81**0.5"
   ]
  },
  {
   "cell_type": "markdown",
   "id": "8fe81570",
   "metadata": {},
   "source": [
    "$ \\sigma_y = \\sqrt{D(Y)} $"
   ]
  },
  {
   "cell_type": "code",
   "execution_count": 26,
   "id": "b8b62d3e",
   "metadata": {},
   "outputs": [
    {
     "data": {
      "text/plain": [
       "7.899367063252599"
      ]
     },
     "execution_count": 26,
     "metadata": {},
     "output_type": "execute_result"
    }
   ],
   "source": [
    "62.4**0.5"
   ]
  },
  {
   "cell_type": "markdown",
   "id": "e8ee1e97",
   "metadata": {},
   "source": [
    "**Середньоквадратичне відхилення:**\n",
    "    \n",
    "**$ \\sigma_x = 3,7162 $**\n",
    "\n",
    "**$ \\sigma_y = 62,4 $**"
   ]
  },
  {
   "cell_type": "markdown",
   "id": "1af16279",
   "metadata": {},
   "source": [
    "###  3.  Коефіцієнт коваріації X і Y:"
   ]
  },
  {
   "cell_type": "markdown",
   "id": "ef0c0c68",
   "metadata": {},
   "source": [
    "$cov(X,Y) = M(XY) - M(X) ∙ M(Y)$"
   ]
  },
  {
   "cell_type": "markdown",
   "id": "aecd9c94",
   "metadata": {},
   "source": [
    "Математичне очікування добутку \n",
    "\n",
    "$ M(XY) = \\sum{x_i ∙ (y_j ∙ p(x_iy_j))} $"
   ]
  },
  {
   "cell_type": "markdown",
   "id": "ffa1789d",
   "metadata": {},
   "source": [
    "$M(XY) = x_1(y_1p(x_1y_1) + y_2p(x_1y_2) + y_3p(x_1y_3) + y_4p(x_1y_4) + y_5p(x_1y_5)) + x_2(y_1p(x_2y_1) + y_2p(x_2y_2) + y_3p(x_2y_3) + y_4p(x_2y_4) + y_5p(x_2y_5)) + x_3(y_1p(x_3y_1) + y_2p(x_3y_2) + y_3p(x_3y_3) + y_4p(x_3y_4) + y_5p(x_3y_5)) + x_4(y_1p(x_4y_1) + y_2p(x_4y_2) + y_3p(x_4y_3) + y_4p(x_4y_4) + y_5p(x_4y_5)) + x_5(y_1p(x_5y_1) + y_2p(x_5y_2) + y_3p(x_5y_3) + y_4p(x_5y_4) + y_5p(x_5y_5))$"
   ]
  },
  {
   "cell_type": "code",
   "execution_count": 27,
   "id": "42e93128",
   "metadata": {},
   "outputs": [
    {
     "data": {
      "text/plain": [
       "10.8"
      ]
     },
     "execution_count": 27,
     "metadata": {},
     "output_type": "execute_result"
    }
   ],
   "source": [
    "10*(20*0.01 + 10*0.03 + 2*0.02 - 2*0.03 - 8*0.01) + 5*(20*0.03 + 10*0.09 + 2*0.06 - 2*0.09 - 8*0.03) + 2*(20*0.02 + 10*0.06 +2*0.04 - 2*0.06 - 8*0.02) + 1*(20*0.03 + 10*0.09 + 2*0.06 - 2*0.09 - 8*0.03) - 5*(20*0.01 + 10*0.03 + 2*0.02 - 2*0.03 - 8*0.01)"
   ]
  },
  {
   "cell_type": "code",
   "execution_count": 28,
   "id": "1f371623",
   "metadata": {},
   "outputs": [
    {
     "data": {
      "text/plain": [
       "0.0"
      ]
     },
     "execution_count": 28,
     "metadata": {},
     "output_type": "execute_result"
    }
   ],
   "source": [
    "10.8 - 2.7*4"
   ]
  },
  {
   "cell_type": "markdown",
   "id": "57019b54",
   "metadata": {},
   "source": [
    "Коуфіцієнт коваріації:\n",
    "\n",
    "$cov(XY)$ = **0**"
   ]
  },
  {
   "cell_type": "markdown",
   "id": "02bd7539",
   "metadata": {},
   "source": [
    "### Коефіцієнт кореляції:"
   ]
  },
  {
   "cell_type": "markdown",
   "id": "bb03acf1",
   "metadata": {},
   "source": [
    "$ r_{xy} = \\frac{cov(X,Y)}{\\sigma_x ∙  \\sigma_y} $"
   ]
  },
  {
   "cell_type": "code",
   "execution_count": 29,
   "id": "4f1d4360",
   "metadata": {},
   "outputs": [
    {
     "data": {
      "text/plain": [
       "0.0"
      ]
     },
     "execution_count": 29,
     "metadata": {},
     "output_type": "execute_result"
    }
   ],
   "source": [
    "0/(3.7162*62.4)"
   ]
  },
  {
   "cell_type": "markdown",
   "id": "0badbd5e",
   "metadata": {},
   "source": [
    "**Коефіцієнт кореляції:**\n",
    "\n",
    "**$ r_{xy} = 0 $**"
   ]
  },
  {
   "cell_type": "markdown",
   "id": "45778dba",
   "metadata": {},
   "source": [
    "### Відповідь: "
   ]
  },
  {
   "cell_type": "markdown",
   "id": "b64b5fe3",
   "metadata": {},
   "source": [
    "Математичне очікування акцій **X** дорівнює: **2,7**. \n",
    "\n",
    "Математичне очікування акцій **Y** дорівнює: **4**.\n",
    "\n",
    "Дисперсія **D(X) = 13,81**\n",
    "\n",
    "Дисперсія **D(Y) = 62,4**\n",
    "\n",
    "Середньоквадратичне відхилення $ \\sigma(X) = 3,7162 $\n",
    "\n",
    "Середньоквадратичне відхилення $ \\sigma(Y)  = 62,4 $\n",
    "\n",
    "Математичне очікування добутку $ M(XY) $ дорівнює **10,8**\n",
    "\n",
    "Коефіціент коваріації $ cov(XY) $ дорівнює **0**\n",
    "\n",
    "Коефіціент кореляції $ r_{xy} $  дорівнює **0**"
   ]
  },
  {
   "cell_type": "markdown",
   "id": "59c0e553",
   "metadata": {},
   "source": [
    "### 1) Очікуваний прибуток від акцій X  менший ніж акцій Y\n",
    "### 2) Ступінь ризику акцій Х нижчий ніж акцій Y\n",
    "### 3) Зв'язку між акціями X та Y немає"
   ]
  }
 ],
 "metadata": {
  "kernelspec": {
   "display_name": "Python 3 (ipykernel)",
   "language": "python",
   "name": "python3"
  },
  "language_info": {
   "codemirror_mode": {
    "name": "ipython",
    "version": 3
   },
   "file_extension": ".py",
   "mimetype": "text/x-python",
   "name": "python",
   "nbconvert_exporter": "python",
   "pygments_lexer": "ipython3",
   "version": "3.10.7"
  }
 },
 "nbformat": 4,
 "nbformat_minor": 5
}
