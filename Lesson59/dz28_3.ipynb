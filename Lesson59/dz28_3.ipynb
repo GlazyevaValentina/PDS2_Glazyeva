{
 "cells": [
  {
   "cell_type": "markdown",
   "id": "58c9889e",
   "metadata": {},
   "source": [
    "##  Інтервальна оцінка"
   ]
  },
  {
   "cell_type": "markdown",
   "id": "a3ad2e1c",
   "metadata": {},
   "source": [
    "### Задача 3"
   ]
  },
  {
   "cell_type": "markdown",
   "id": "aeb89e94",
   "metadata": {},
   "source": [
    "Знайти мінімальний об’єм вибірки, при якому з надійністю $\\gamma = 0,99 $ точність оцінки математичного сподівання **a**\n",
    "нормально розподіленої ознаки дорівнює $ \\delta = 0,6 $, якщо середнє квадратичне відхилення $\\sigma = 3 $."
   ]
  },
  {
   "cell_type": "markdown",
   "id": "55b3fe2a",
   "metadata": {},
   "source": [
    "### Розв'язок"
   ]
  },
  {
   "cell_type": "markdown",
   "id": "fb01e6b5",
   "metadata": {},
   "source": [
    "**Якщо необхідно забезпечити наперед задані точність оцінки $\\delta$ та надійність оцінки $\\gamma$ , то об’єм вибірки повинен бути не меншим за таке число:**"
   ]
  },
  {
   "cell_type": "markdown",
   "id": "34c4f24a",
   "metadata": {},
   "source": [
    "$ n = \\frac{t^2 ∙ \\sigma^2}{\\delta^2}$, де"
   ]
  },
  {
   "cell_type": "markdown",
   "id": "7211e594",
   "metadata": {},
   "source": [
    "параметр t арнумент функції Лапласа, для якого\n",
    "\n",
    "$ \\phi{(t)} = \\frac{\\gamma}{2} $;\n",
    "\n",
    "$\\gamma = 0,99 $ - надійність оцінки;\n",
    "\n",
    "$\\delta = 0,6 $ - точність оцінки;\n",
    "\n",
    "$ \\sigma = 3 $ - середнє квадратичне відхилення."
   ]
  },
  {
   "cell_type": "markdown",
   "id": "20c6f185",
   "metadata": {},
   "source": [
    "Параметр **t** знаходимо із таблиці для інтегральної функції Лапласа."
   ]
  },
  {
   "cell_type": "markdown",
   "id": "9bb69452",
   "metadata": {},
   "source": [
    "**$ \\phi{(t)} = \\frac{\\gamma}{2} = 0,99/2 = 0,495 $**"
   ]
  },
  {
   "cell_type": "code",
   "execution_count": 2,
   "id": "8b2e9629",
   "metadata": {},
   "outputs": [
    {
     "data": {
      "text/plain": [
       "0.495"
      ]
     },
     "execution_count": 2,
     "metadata": {},
     "output_type": "execute_result"
    }
   ],
   "source": [
    "0.99/2"
   ]
  },
  {
   "cell_type": "markdown",
   "id": "4f756c63",
   "metadata": {},
   "source": [
    "**$ t = 2,58 $** згідно таблиці "
   ]
  },
  {
   "cell_type": "markdown",
   "id": "7b733464",
   "metadata": {},
   "source": [
    "**Об’єм вибірки дорівнює:**"
   ]
  },
  {
   "cell_type": "markdown",
   "id": "78c047ab",
   "metadata": {},
   "source": [
    "$ n = \\frac{t^2 ∙ \\sigma^2}{\\delta^2} = \\frac{1,96^2 ∙ 3^2}{0,6^2} = 166 $"
   ]
  },
  {
   "cell_type": "code",
   "execution_count": 3,
   "id": "f8f5eec8",
   "metadata": {},
   "outputs": [
    {
     "data": {
      "text/plain": [
       "166.41000000000003"
      ]
     },
     "execution_count": 3,
     "metadata": {},
     "output_type": "execute_result"
    }
   ],
   "source": [
    "(2.58**2 * 3**2)/0.6**2"
   ]
  },
  {
   "cell_type": "markdown",
   "id": "45778dba",
   "metadata": {},
   "source": [
    "### Відповідь: "
   ]
  },
  {
   "cell_type": "markdown",
   "id": "b64b5fe3",
   "metadata": {},
   "source": [
    "**Мінімальний об’єм вибірки, при якому з надійністю $\\gamma = 0,99 $ точність оцінки математичного сподівання a\n",
    "нормально розподіленої ознаки дорівнює $ \\delta = 0,6 $, якщо середнє квадратичне відхилення $\\sigma = 3 $, повинен бути не меншим за таке число**\n",
    " \n",
    "**166**"
   ]
  }
 ],
 "metadata": {
  "kernelspec": {
   "display_name": "Python 3 (ipykernel)",
   "language": "python",
   "name": "python3"
  },
  "language_info": {
   "codemirror_mode": {
    "name": "ipython",
    "version": 3
   },
   "file_extension": ".py",
   "mimetype": "text/x-python",
   "name": "python",
   "nbconvert_exporter": "python",
   "pygments_lexer": "ipython3",
   "version": "3.10.7"
  }
 },
 "nbformat": 4,
 "nbformat_minor": 5
}
