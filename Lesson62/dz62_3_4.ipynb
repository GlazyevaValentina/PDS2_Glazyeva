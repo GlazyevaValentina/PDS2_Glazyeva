{
 "cells": [
  {
   "cell_type": "markdown",
   "id": "78dd42cd",
   "metadata": {},
   "source": [
    "# Image Feature Extraction"
   ]
  },
  {
   "cell_type": "markdown",
   "id": "00005e1f",
   "metadata": {},
   "source": [
    "## Завдання"
   ]
  },
  {
   "cell_type": "markdown",
   "id": "359aba2e",
   "metadata": {},
   "source": [
    "3.  Завантажте датасет **CIFAR-10** та використайте **HOG** для витягування ознак зображень. Застосуйте будь-який простий класифікатор (наприклад, **SVM**) для класифікації зображень та обчисліть метрики точності, такі як **accuracy, precision, recall та F1-score.\n",
    "\n",
    "4.  Використайте метод **SIFT** для витягування ознак з зображень та порівняйте його з методом **HOG** за допомогою метрик точності."
   ]
  },
  {
   "cell_type": "markdown",
   "id": "1bbb93e7",
   "metadata": {},
   "source": [
    "## Розв'язок"
   ]
  },
  {
   "cell_type": "code",
   "execution_count": 47,
   "id": "417dcf52",
   "metadata": {},
   "outputs": [],
   "source": [
    "import cv2\n",
    "import numpy as np\n",
    "\n",
    "from sklearn.svm import SVC\n",
    "from sklearn.metrics import accuracy_score, precision_score, recall_score, f1_score\n",
    "from skimage.feature import hog\n",
    "from skimage import color\n",
    "from tensorflow.keras.datasets import cifar10\n",
    "from sklearn.decomposition import PCA\n",
    "import numpy as np"
   ]
  },
  {
   "cell_type": "markdown",
   "id": "1a6944b3",
   "metadata": {},
   "source": [
    "### 3. Використання HOG для витягування ознак зображень"
   ]
  },
  {
   "cell_type": "code",
   "execution_count": 5,
   "id": "0a90aa7d",
   "metadata": {},
   "outputs": [],
   "source": [
    "(x_train, y_train), (x_test, y_test) = cifar10.load_data()"
   ]
  },
  {
   "cell_type": "code",
   "execution_count": 6,
   "id": "0bd5ae60",
   "metadata": {},
   "outputs": [],
   "source": [
    "train_data_gray = np.array([cv2.cvtColor(x.reshape(32, 32, 3), cv2.COLOR_BGR2GRAY) for x in x_train])\n",
    "test_data_gray = np.array([cv2.cvtColor(x.reshape(32, 32, 3), cv2.COLOR_BGR2GRAY) for x in x_test])"
   ]
  },
  {
   "cell_type": "code",
   "execution_count": 7,
   "id": "046f7eab",
   "metadata": {},
   "outputs": [],
   "source": [
    "train_hog_features = np.array([hog(x, orientations=8, pixels_per_cell=(8, 8), cells_per_block=(2, 2), visualize=False) for x in train_data_gray])\n",
    "test_hog_features = np.array([hog(x, orientations=8, pixels_per_cell=(8, 8), cells_per_block=(2, 2), visualize=False) for x in test_data_gray])"
   ]
  },
  {
   "cell_type": "code",
   "execution_count": 8,
   "id": "eaf29da2",
   "metadata": {},
   "outputs": [],
   "source": [
    "pca = PCA(n_components=200, random_state=42)\n",
    "train_pca_features = pca.fit_transform(train_hog_features)\n",
    "test_pca_features = pca.transform(test_hog_features)"
   ]
  },
  {
   "cell_type": "code",
   "execution_count": 9,
   "id": "f5e932a7",
   "metadata": {},
   "outputs": [],
   "source": [
    "y_train = y_train.ravel()\n",
    "y_test = y_test.ravel()"
   ]
  },
  {
   "cell_type": "code",
   "execution_count": 10,
   "id": "22baa062",
   "metadata": {},
   "outputs": [
    {
     "data": {
      "text/html": [
       "<style>#sk-container-id-1 {color: black;background-color: white;}#sk-container-id-1 pre{padding: 0;}#sk-container-id-1 div.sk-toggleable {background-color: white;}#sk-container-id-1 label.sk-toggleable__label {cursor: pointer;display: block;width: 100%;margin-bottom: 0;padding: 0.3em;box-sizing: border-box;text-align: center;}#sk-container-id-1 label.sk-toggleable__label-arrow:before {content: \"▸\";float: left;margin-right: 0.25em;color: #696969;}#sk-container-id-1 label.sk-toggleable__label-arrow:hover:before {color: black;}#sk-container-id-1 div.sk-estimator:hover label.sk-toggleable__label-arrow:before {color: black;}#sk-container-id-1 div.sk-toggleable__content {max-height: 0;max-width: 0;overflow: hidden;text-align: left;background-color: #f0f8ff;}#sk-container-id-1 div.sk-toggleable__content pre {margin: 0.2em;color: black;border-radius: 0.25em;background-color: #f0f8ff;}#sk-container-id-1 input.sk-toggleable__control:checked~div.sk-toggleable__content {max-height: 200px;max-width: 100%;overflow: auto;}#sk-container-id-1 input.sk-toggleable__control:checked~label.sk-toggleable__label-arrow:before {content: \"▾\";}#sk-container-id-1 div.sk-estimator input.sk-toggleable__control:checked~label.sk-toggleable__label {background-color: #d4ebff;}#sk-container-id-1 div.sk-label input.sk-toggleable__control:checked~label.sk-toggleable__label {background-color: #d4ebff;}#sk-container-id-1 input.sk-hidden--visually {border: 0;clip: rect(1px 1px 1px 1px);clip: rect(1px, 1px, 1px, 1px);height: 1px;margin: -1px;overflow: hidden;padding: 0;position: absolute;width: 1px;}#sk-container-id-1 div.sk-estimator {font-family: monospace;background-color: #f0f8ff;border: 1px dotted black;border-radius: 0.25em;box-sizing: border-box;margin-bottom: 0.5em;}#sk-container-id-1 div.sk-estimator:hover {background-color: #d4ebff;}#sk-container-id-1 div.sk-parallel-item::after {content: \"\";width: 100%;border-bottom: 1px solid gray;flex-grow: 1;}#sk-container-id-1 div.sk-label:hover label.sk-toggleable__label {background-color: #d4ebff;}#sk-container-id-1 div.sk-serial::before {content: \"\";position: absolute;border-left: 1px solid gray;box-sizing: border-box;top: 0;bottom: 0;left: 50%;z-index: 0;}#sk-container-id-1 div.sk-serial {display: flex;flex-direction: column;align-items: center;background-color: white;padding-right: 0.2em;padding-left: 0.2em;position: relative;}#sk-container-id-1 div.sk-item {position: relative;z-index: 1;}#sk-container-id-1 div.sk-parallel {display: flex;align-items: stretch;justify-content: center;background-color: white;position: relative;}#sk-container-id-1 div.sk-item::before, #sk-container-id-1 div.sk-parallel-item::before {content: \"\";position: absolute;border-left: 1px solid gray;box-sizing: border-box;top: 0;bottom: 0;left: 50%;z-index: -1;}#sk-container-id-1 div.sk-parallel-item {display: flex;flex-direction: column;z-index: 1;position: relative;background-color: white;}#sk-container-id-1 div.sk-parallel-item:first-child::after {align-self: flex-end;width: 50%;}#sk-container-id-1 div.sk-parallel-item:last-child::after {align-self: flex-start;width: 50%;}#sk-container-id-1 div.sk-parallel-item:only-child::after {width: 0;}#sk-container-id-1 div.sk-dashed-wrapped {border: 1px dashed gray;margin: 0 0.4em 0.5em 0.4em;box-sizing: border-box;padding-bottom: 0.4em;background-color: white;}#sk-container-id-1 div.sk-label label {font-family: monospace;font-weight: bold;display: inline-block;line-height: 1.2em;}#sk-container-id-1 div.sk-label-container {text-align: center;}#sk-container-id-1 div.sk-container {/* jupyter's `normalize.less` sets `[hidden] { display: none; }` but bootstrap.min.css set `[hidden] { display: none !important; }` so we also need the `!important` here to be able to override the default hidden behavior on the sphinx rendered scikit-learn.org. See: https://github.com/scikit-learn/scikit-learn/issues/21755 */display: inline-block !important;position: relative;}#sk-container-id-1 div.sk-text-repr-fallback {display: none;}</style><div id=\"sk-container-id-1\" class=\"sk-top-container\"><div class=\"sk-text-repr-fallback\"><pre>SVC()</pre><b>In a Jupyter environment, please rerun this cell to show the HTML representation or trust the notebook. <br />On GitHub, the HTML representation is unable to render, please try loading this page with nbviewer.org.</b></div><div class=\"sk-container\" hidden><div class=\"sk-item\"><div class=\"sk-estimator sk-toggleable\"><input class=\"sk-toggleable__control sk-hidden--visually\" id=\"sk-estimator-id-1\" type=\"checkbox\" checked><label for=\"sk-estimator-id-1\" class=\"sk-toggleable__label sk-toggleable__label-arrow\">SVC</label><div class=\"sk-toggleable__content\"><pre>SVC()</pre></div></div></div></div></div>"
      ],
      "text/plain": [
       "SVC()"
      ]
     },
     "execution_count": 10,
     "metadata": {},
     "output_type": "execute_result"
    }
   ],
   "source": [
    "clf = SVC(kernel='rbf')\n",
    "clf.fit(train_pca_features, y_train)"
   ]
  },
  {
   "cell_type": "code",
   "execution_count": 11,
   "id": "c4ef09e4",
   "metadata": {},
   "outputs": [],
   "source": [
    "y_pred = clf.predict(test_pca_features)"
   ]
  },
  {
   "cell_type": "code",
   "execution_count": 12,
   "id": "2ab06176",
   "metadata": {
    "scrolled": true
   },
   "outputs": [
    {
     "name": "stdout",
     "output_type": "stream",
     "text": [
      "Accuracy: 0.626\n",
      "Precision: 0.6249679364491738\n",
      "Recall: 0.626\n",
      "F1-Score: 0.6246989635968799\n"
     ]
    }
   ],
   "source": [
    "acc = accuracy_score(y_test, y_pred)\n",
    "prec = precision_score(y_test, y_pred, average='weighted')\n",
    "rec = recall_score(y_test, y_pred, average='weighted')\n",
    "f1 = f1_score(y_test, y_pred, average='weighted')\n",
    "\n",
    "print('Accuracy:', acc)\n",
    "print('Precision:', prec)\n",
    "print('Recall:', rec)\n",
    "print('F1-Score:', f1)"
   ]
  },
  {
   "cell_type": "markdown",
   "id": "6fea1146",
   "metadata": {},
   "source": [
    "### 4. Використання методу SIFT для витягування ознак з зображень"
   ]
  },
  {
   "cell_type": "code",
   "execution_count": 24,
   "id": "2052d1c3",
   "metadata": {},
   "outputs": [],
   "source": [
    "(x_train, y_train), (x_test, y_test) = cifar10.load_data()"
   ]
  },
  {
   "cell_type": "code",
   "execution_count": 34,
   "id": "a4c9047c",
   "metadata": {},
   "outputs": [],
   "source": [
    "x_train_gray = np.array([cv2.cvtColor(img, cv2.COLOR_BGR2GRAY) for img in x_train])\n",
    "x_test_gray = np.array([cv2.cvtColor(img, cv2.COLOR_BGR2GRAY) for img in x_test])"
   ]
  },
  {
   "cell_type": "code",
   "execution_count": 35,
   "id": "d53675b3",
   "metadata": {},
   "outputs": [],
   "source": [
    "sift = cv2.SIFT_create()"
   ]
  },
  {
   "cell_type": "code",
   "execution_count": 36,
   "id": "8418bb62",
   "metadata": {},
   "outputs": [],
   "source": [
    "sift_train_features = []\n",
    "sift_train_labels = []\n",
    "for i in range(len(x_train_gray)):\n",
    "    keypoints, descriptors = sift.detectAndCompute(x_train_gray[i], None)\n",
    "    if descriptors is not None:\n",
    "        sift_train_features.append(descriptors)\n",
    "        sift_train_labels.append(y_train[i])"
   ]
  },
  {
   "cell_type": "code",
   "execution_count": 37,
   "id": "bea82554",
   "metadata": {},
   "outputs": [],
   "source": [
    "sift_test_features = []\n",
    "sift_test_labels = []\n",
    "for i in range(len(x_test_gray)):\n",
    "    keypoints, descriptors = sift.detectAndCompute(x_test_gray[i], None)\n",
    "    if descriptors is not None:\n",
    "        sift_test_features.append(descriptors)\n",
    "        sift_test_labels.append(y_test[i])"
   ]
  },
  {
   "cell_type": "code",
   "execution_count": 38,
   "id": "63a4550c",
   "metadata": {},
   "outputs": [],
   "source": [
    "max_descriptors = max([len(desc) for desc in sift_train_features])\n",
    "sift_train_features_arr = np.zeros((len(sift_train_features), max_descriptors, 128))\n",
    "for i in range(len(sift_train_features)):\n",
    "    for j in range(len(sift_train_features[i])):\n",
    "        sift_train_features_arr[i][j] = sift_train_features[i][j]"
   ]
  },
  {
   "cell_type": "code",
   "execution_count": 39,
   "id": "d1b46c10",
   "metadata": {},
   "outputs": [],
   "source": [
    "max_descriptors = max([len(desc) for desc in sift_test_features])\n",
    "sift_test_features_arr = np.zeros((len(sift_test_features), max_descriptors, 128))\n",
    "for i in range(len(sift_test_features)):\n",
    "    for j in range(len(sift_test_features[i])):\n",
    "        sift_test_features_arr[i][j] = sift_test_features[i][j]"
   ]
  },
  {
   "cell_type": "code",
   "execution_count": 40,
   "id": "db2181cb",
   "metadata": {},
   "outputs": [],
   "source": [
    "new_sift_train_features_arr = sift_train_features_arr.reshape(len(sift_train_features_arr), -1)\n",
    "new_sift_test_features_arr = sift_test_features_arr.reshape(len(sift_test_features_arr), -1)"
   ]
  },
  {
   "cell_type": "code",
   "execution_count": 41,
   "id": "c21a6ab4",
   "metadata": {},
   "outputs": [],
   "source": [
    "pca = PCA(n_components=200)\n",
    "train_pca_features_shift = pca.fit_transform(new_sift_train_features_arr)\n",
    "test_pca_features_shift = pca.fit_transform(new_sift_test_features_arr)"
   ]
  },
  {
   "cell_type": "code",
   "execution_count": 42,
   "id": "371aece2",
   "metadata": {},
   "outputs": [],
   "source": [
    "new_sift_train_labels = []\n",
    "for i in sift_train_labels:\n",
    "  new_sift_train_labels.append(i[0])"
   ]
  },
  {
   "cell_type": "code",
   "execution_count": 43,
   "id": "fcba24dd",
   "metadata": {},
   "outputs": [],
   "source": [
    "new_sift_test_labels = []\n",
    "for i in sift_test_labels:\n",
    "  new_sift_test_labels.append(i[0])"
   ]
  },
  {
   "cell_type": "code",
   "execution_count": 44,
   "id": "3041471b",
   "metadata": {},
   "outputs": [
    {
     "data": {
      "text/html": [
       "<style>#sk-container-id-2 {color: black;background-color: white;}#sk-container-id-2 pre{padding: 0;}#sk-container-id-2 div.sk-toggleable {background-color: white;}#sk-container-id-2 label.sk-toggleable__label {cursor: pointer;display: block;width: 100%;margin-bottom: 0;padding: 0.3em;box-sizing: border-box;text-align: center;}#sk-container-id-2 label.sk-toggleable__label-arrow:before {content: \"▸\";float: left;margin-right: 0.25em;color: #696969;}#sk-container-id-2 label.sk-toggleable__label-arrow:hover:before {color: black;}#sk-container-id-2 div.sk-estimator:hover label.sk-toggleable__label-arrow:before {color: black;}#sk-container-id-2 div.sk-toggleable__content {max-height: 0;max-width: 0;overflow: hidden;text-align: left;background-color: #f0f8ff;}#sk-container-id-2 div.sk-toggleable__content pre {margin: 0.2em;color: black;border-radius: 0.25em;background-color: #f0f8ff;}#sk-container-id-2 input.sk-toggleable__control:checked~div.sk-toggleable__content {max-height: 200px;max-width: 100%;overflow: auto;}#sk-container-id-2 input.sk-toggleable__control:checked~label.sk-toggleable__label-arrow:before {content: \"▾\";}#sk-container-id-2 div.sk-estimator input.sk-toggleable__control:checked~label.sk-toggleable__label {background-color: #d4ebff;}#sk-container-id-2 div.sk-label input.sk-toggleable__control:checked~label.sk-toggleable__label {background-color: #d4ebff;}#sk-container-id-2 input.sk-hidden--visually {border: 0;clip: rect(1px 1px 1px 1px);clip: rect(1px, 1px, 1px, 1px);height: 1px;margin: -1px;overflow: hidden;padding: 0;position: absolute;width: 1px;}#sk-container-id-2 div.sk-estimator {font-family: monospace;background-color: #f0f8ff;border: 1px dotted black;border-radius: 0.25em;box-sizing: border-box;margin-bottom: 0.5em;}#sk-container-id-2 div.sk-estimator:hover {background-color: #d4ebff;}#sk-container-id-2 div.sk-parallel-item::after {content: \"\";width: 100%;border-bottom: 1px solid gray;flex-grow: 1;}#sk-container-id-2 div.sk-label:hover label.sk-toggleable__label {background-color: #d4ebff;}#sk-container-id-2 div.sk-serial::before {content: \"\";position: absolute;border-left: 1px solid gray;box-sizing: border-box;top: 0;bottom: 0;left: 50%;z-index: 0;}#sk-container-id-2 div.sk-serial {display: flex;flex-direction: column;align-items: center;background-color: white;padding-right: 0.2em;padding-left: 0.2em;position: relative;}#sk-container-id-2 div.sk-item {position: relative;z-index: 1;}#sk-container-id-2 div.sk-parallel {display: flex;align-items: stretch;justify-content: center;background-color: white;position: relative;}#sk-container-id-2 div.sk-item::before, #sk-container-id-2 div.sk-parallel-item::before {content: \"\";position: absolute;border-left: 1px solid gray;box-sizing: border-box;top: 0;bottom: 0;left: 50%;z-index: -1;}#sk-container-id-2 div.sk-parallel-item {display: flex;flex-direction: column;z-index: 1;position: relative;background-color: white;}#sk-container-id-2 div.sk-parallel-item:first-child::after {align-self: flex-end;width: 50%;}#sk-container-id-2 div.sk-parallel-item:last-child::after {align-self: flex-start;width: 50%;}#sk-container-id-2 div.sk-parallel-item:only-child::after {width: 0;}#sk-container-id-2 div.sk-dashed-wrapped {border: 1px dashed gray;margin: 0 0.4em 0.5em 0.4em;box-sizing: border-box;padding-bottom: 0.4em;background-color: white;}#sk-container-id-2 div.sk-label label {font-family: monospace;font-weight: bold;display: inline-block;line-height: 1.2em;}#sk-container-id-2 div.sk-label-container {text-align: center;}#sk-container-id-2 div.sk-container {/* jupyter's `normalize.less` sets `[hidden] { display: none; }` but bootstrap.min.css set `[hidden] { display: none !important; }` so we also need the `!important` here to be able to override the default hidden behavior on the sphinx rendered scikit-learn.org. See: https://github.com/scikit-learn/scikit-learn/issues/21755 */display: inline-block !important;position: relative;}#sk-container-id-2 div.sk-text-repr-fallback {display: none;}</style><div id=\"sk-container-id-2\" class=\"sk-top-container\"><div class=\"sk-text-repr-fallback\"><pre>SVC()</pre><b>In a Jupyter environment, please rerun this cell to show the HTML representation or trust the notebook. <br />On GitHub, the HTML representation is unable to render, please try loading this page with nbviewer.org.</b></div><div class=\"sk-container\" hidden><div class=\"sk-item\"><div class=\"sk-estimator sk-toggleable\"><input class=\"sk-toggleable__control sk-hidden--visually\" id=\"sk-estimator-id-2\" type=\"checkbox\" checked><label for=\"sk-estimator-id-2\" class=\"sk-toggleable__label sk-toggleable__label-arrow\">SVC</label><div class=\"sk-toggleable__content\"><pre>SVC()</pre></div></div></div></div></div>"
      ],
      "text/plain": [
       "SVC()"
      ]
     },
     "execution_count": 44,
     "metadata": {},
     "output_type": "execute_result"
    }
   ],
   "source": [
    "clf = SVC(kernel='rbf')\n",
    "clf.fit(train_pca_features_shift, new_sift_train_labels)"
   ]
  },
  {
   "cell_type": "code",
   "execution_count": 45,
   "id": "6f8bc4ce",
   "metadata": {},
   "outputs": [],
   "source": [
    "y_pred = clf.predict(test_pca_features_shift)"
   ]
  },
  {
   "cell_type": "code",
   "execution_count": 46,
   "id": "6b3c5c3a",
   "metadata": {},
   "outputs": [
    {
     "name": "stdout",
     "output_type": "stream",
     "text": [
      "Accuracy: 0.19015637530072174\n",
      "Precision: 0.18680431447268966\n",
      "Recall: 0.1902400194488252\n",
      "F1-score: 0.1872264902408443\n"
     ]
    }
   ],
   "source": [
    "accuracy = accuracy_score(new_sift_test_labels, y_pred)\n",
    "precision = precision_score(new_sift_test_labels, y_pred, average='macro')\n",
    "recall = recall_score(new_sift_test_labels, y_pred, average='macro')\n",
    "f1 = f1_score(new_sift_test_labels, y_pred, average='macro')\n",
    "\n",
    "\n",
    "print(\"Accuracy:\", accuracy)\n",
    "print(\"Precision:\", precision)\n",
    "print(\"Recall:\", recall)\n",
    "print(\"F1-score:\", f1)"
   ]
  },
  {
   "cell_type": "markdown",
   "id": "e3a1b81e",
   "metadata": {},
   "source": [
    "## Висновок"
   ]
  },
  {
   "cell_type": "markdown",
   "id": "2ddeb6d5",
   "metadata": {},
   "source": [
    "**При використанні методу HOG для витягування ознак з зображень точніть вийшла 0.626 а з методом SIFT 0.190. \n",
    "Отже, для даного датасету метод HOG працює дещо краще.**"
   ]
  },
  {
   "cell_type": "code",
   "execution_count": null,
   "id": "192f9263",
   "metadata": {},
   "outputs": [],
   "source": []
  }
 ],
 "metadata": {
  "kernelspec": {
   "display_name": "Python 3 (ipykernel)",
   "language": "python",
   "name": "python3"
  },
  "language_info": {
   "codemirror_mode": {
    "name": "ipython",
    "version": 3
   },
   "file_extension": ".py",
   "mimetype": "text/x-python",
   "name": "python",
   "nbconvert_exporter": "python",
   "pygments_lexer": "ipython3",
   "version": "3.10.7"
  }
 },
 "nbformat": 4,
 "nbformat_minor": 5
}
