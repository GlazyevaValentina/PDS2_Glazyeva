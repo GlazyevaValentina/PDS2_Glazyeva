{
 "cells": [
  {
   "cell_type": "markdown",
   "id": "12d44a6b",
   "metadata": {},
   "source": [
    "## Випадкові події"
   ]
  },
  {
   "cell_type": "markdown",
   "id": "69458b28",
   "metadata": {},
   "source": [
    "-----------------"
   ]
  },
  {
   "cell_type": "markdown",
   "id": "20b53e0b",
   "metadata": {},
   "source": [
    "### Задача1"
   ]
  },
  {
   "cell_type": "markdown",
   "id": "7678c585",
   "metadata": {},
   "source": [
    "Прилад містить 7 елементів, з яких 3 зношені. При включенні приладу випадковим чином включаються 3 елементи. Знайти ймовірність того, що при цьому виявляться включеними два незношені елементи."
   ]
  },
  {
   "cell_type": "markdown",
   "id": "57a431cd",
   "metadata": {},
   "source": [
    "### Розв'язок"
   ]
  },
  {
   "cell_type": "markdown",
   "id": "307970e7",
   "metadata": {},
   "source": [
    "Подія А = {серед трьох включених елементів виявляться два незношені}"
   ]
  },
  {
   "cell_type": "markdown",
   "id": "5206bf84",
   "metadata": {},
   "source": [
    "Тоді,      $ P(A) = \\frac{m}{n} $, де n і m випадкові події. "
   ]
  },
  {
   "cell_type": "markdown",
   "id": "b7834429",
   "metadata": {},
   "source": [
    "Використаємо формулу сполучень для обчислення кількості випадкових подій"
   ]
  },
  {
   "cell_type": "markdown",
   "id": "b6b69b4e",
   "metadata": {},
   "source": [
    "Якщо з множини потужністю n навмання вибирають m елементів, які відрізняються за складом, але порядок їх розташування \n",
    "не має значення, то така комбінаторна конфігурація називається сполученням. Кількість сполучень обчислюється за формулою:"
   ]
  },
  {
   "cell_type": "markdown",
   "id": "65b0a3db",
   "metadata": {},
   "source": [
    "$ C_n ^m = \\frac{n!}{m!(n - m)!} $"
   ]
  },
  {
   "cell_type": "markdown",
   "id": "8747eb30",
   "metadata": {},
   "source": [
    "$ n = C_7 ^3 = \\frac{7!}{3!(7-3)!} = \\frac{5 ∙ 6 ∙ 7}{1 ∙ 2 ∙ 3} = 35 $"
   ]
  },
  {
   "cell_type": "markdown",
   "id": "866c408b",
   "metadata": {},
   "source": [
    "$ m = C_4 ^2 ∙ C_3 ^1= \\frac{4!}{2!(4-2)!} ∙ \\frac{3!}{1(3-1)!} = \\frac{3 ∙ 4 ∙ 3}{2} = 18 $"
   ]
  },
  {
   "cell_type": "markdown",
   "id": "2ddb139f",
   "metadata": {},
   "source": [
    "$ P(A) = \\frac{m}{n} = \\frac{18}{35} \\approx 0,51 $"
   ]
  },
  {
   "cell_type": "markdown",
   "id": "6322c16b",
   "metadata": {},
   "source": [
    "### Відповідь: "
   ]
  },
  {
   "cell_type": "markdown",
   "id": "a15e5907",
   "metadata": {},
   "source": [
    "### Ймовірність події  $ \\approx 0,51 $"
   ]
  }
 ],
 "metadata": {
  "kernelspec": {
   "display_name": "Python 3 (ipykernel)",
   "language": "python",
   "name": "python3"
  },
  "language_info": {
   "codemirror_mode": {
    "name": "ipython",
    "version": 3
   },
   "file_extension": ".py",
   "mimetype": "text/x-python",
   "name": "python",
   "nbconvert_exporter": "python",
   "pygments_lexer": "ipython3",
   "version": "3.10.7"
  }
 },
 "nbformat": 4,
 "nbformat_minor": 5
}
