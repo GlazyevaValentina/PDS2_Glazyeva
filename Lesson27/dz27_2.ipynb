{
 "cells": [
  {
   "cell_type": "markdown",
   "id": "58c9889e",
   "metadata": {},
   "source": [
    "##  Розподіл вибірки"
   ]
  },
  {
   "cell_type": "markdown",
   "id": "a3ad2e1c",
   "metadata": {},
   "source": [
    "### Задача 2"
   ]
  },
  {
   "cell_type": "markdown",
   "id": "aeb89e94",
   "metadata": {},
   "source": [
    "У рибальскому містечку 99,99% чоовіків хоча б раз були на рибалці. Проводять соціологічні дослідження серед 10000 навмання вибраних чоловіків. Визначити дисперсію **D(X)** і середнє квадратичне відхилення **S(X)** випадквої величини **X** - числа чоловіків, які жодного разу не були на рибалці."
   ]
  },
  {
   "cell_type": "markdown",
   "id": "55b3fe2a",
   "metadata": {},
   "source": [
    "### Розв'язок"
   ]
  },
  {
   "cell_type": "markdown",
   "id": "3bfd367d",
   "metadata": {},
   "source": [
    "Ймовірність того, що навмання взятий чоловік ніколи не був на рибалці: "
   ]
  },
  {
   "cell_type": "markdown",
   "id": "e45a9d5d",
   "metadata": {},
   "source": [
    "$ p = \\frac{100 - 99,99}{100} = 0,0001 $"
   ]
  },
  {
   "cell_type": "code",
   "execution_count": 3,
   "id": "aa433494",
   "metadata": {},
   "outputs": [
    {
     "data": {
      "text/plain": [
       "0.00010000000000005117"
      ]
     },
     "execution_count": 3,
     "metadata": {},
     "output_type": "execute_result"
    }
   ],
   "source": [
    "(100 -99.99)/100"
   ]
  },
  {
   "cell_type": "markdown",
   "id": "76c967bf",
   "metadata": {},
   "source": [
    "Задача задовільняє усім законам пуассонівського розподілу:\n",
    "\n",
    "кількість випробувань **n = 10000** велика;\n",
    "\n",
    "імовірність **р = 0,0001** близька до нуля;\n",
    "\n",
    "їх добуток **a = n ∙ p = 10000 ∙ 0,0001 = 1 < 10**.\n",
    "\n",
    "\n",
    "На основі даних обчислюємо:"
   ]
  },
  {
   "cell_type": "markdown",
   "id": "0b4fb026",
   "metadata": {},
   "source": [
    "### 1. Дисперсія:"
   ]
  },
  {
   "cell_type": "markdown",
   "id": "143b243a",
   "metadata": {},
   "source": [
    "Для пуассонівського закону розподілу ймовірностей **математичне сподівання** і **дисперсія** рівні добутку кількості дослідів на ймовірність сприятливої події."
   ]
  },
  {
   "cell_type": "markdown",
   "id": "dd652167",
   "metadata": {},
   "source": [
    "$ D(X) =  M(X) = n ∙ p = 10000 ∙ 0,0001 = 1 $"
   ]
  },
  {
   "cell_type": "code",
   "execution_count": 4,
   "id": "cade5343",
   "metadata": {},
   "outputs": [
    {
     "data": {
      "text/plain": [
       "1.0"
      ]
     },
     "execution_count": 4,
     "metadata": {},
     "output_type": "execute_result"
    }
   ],
   "source": [
    "10000 * 0.0001"
   ]
  },
  {
   "cell_type": "markdown",
   "id": "3055d879",
   "metadata": {},
   "source": [
    "### 3. Середнє квадратичне відхилення:"
   ]
  },
  {
   "cell_type": "markdown",
   "id": "396b6db7",
   "metadata": {},
   "source": [
    "$ \\sigma_x = \\sqrt{D(X)} = \\sqrt1 = 1 $"
   ]
  },
  {
   "cell_type": "markdown",
   "id": "966914a2",
   "metadata": {},
   "source": [
    "### Відповідь: "
   ]
  },
  {
   "cell_type": "markdown",
   "id": "b64b5fe3",
   "metadata": {},
   "source": [
    "Математичне очікування **$D(X) = 1$**.\n",
    "\n",
    "Середнє квадратичне відхилення **$S(X) = 1$**."
   ]
  }
 ],
 "metadata": {
  "kernelspec": {
   "display_name": "Python 3 (ipykernel)",
   "language": "python",
   "name": "python3"
  },
  "language_info": {
   "codemirror_mode": {
    "name": "ipython",
    "version": 3
   },
   "file_extension": ".py",
   "mimetype": "text/x-python",
   "name": "python",
   "nbconvert_exporter": "python",
   "pygments_lexer": "ipython3",
   "version": "3.10.7"
  }
 },
 "nbformat": 4,
 "nbformat_minor": 5
}
