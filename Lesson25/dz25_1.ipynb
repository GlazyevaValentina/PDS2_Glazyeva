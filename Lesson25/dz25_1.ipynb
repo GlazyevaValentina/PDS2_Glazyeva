{
 "cells": [
  {
   "cell_type": "markdown",
   "id": "58c9889e",
   "metadata": {},
   "source": [
    "##  Залежність між випадковими величинами"
   ]
  },
  {
   "cell_type": "markdown",
   "id": "a3ad2e1c",
   "metadata": {},
   "source": [
    "### Задача 1"
   ]
  },
  {
   "cell_type": "markdown",
   "id": "aeb89e94",
   "metadata": {},
   "source": [
    "Ймовірність того, що при перевірці деталь виявиться стандартною, дорівнює 0,6. Перевірці підлягають 3 деталі. Побудувати закон розподілу системи двох дискретних випадкових величин X - появи числа бракованих деталей і Y - появи числа стандартних деталей.\n",
    "\n",
    "Обчислити коефіцієнт кореляціі\n",
    "$ r_{xy} $"
   ]
  },
  {
   "cell_type": "markdown",
   "id": "55b3fe2a",
   "metadata": {},
   "source": [
    "### Розв'язок"
   ]
  },
  {
   "cell_type": "markdown",
   "id": "76c967bf",
   "metadata": {},
   "source": [
    "**Х** - поява числа бракованих деталей.\n",
    "\n",
    "**Y** - появи числа стандартних деталей."
   ]
  },
  {
   "cell_type": "markdown",
   "id": "dd652167",
   "metadata": {},
   "source": [
    "Ймовірність того, що при перевірці деталь виявиться стандартною, **p = 0,6**.\n",
    "\n",
    "Ймовірність того, що при перевірці деталь виявиться бракованою, **q = 1 - 0,6 = 0,4**."
   ]
  },
  {
   "cell_type": "markdown",
   "id": "3055d879",
   "metadata": {},
   "source": [
    "### 1. Закон розподілу системи двох дискретних випадкових величин X і Y можна побудувати у вигляді таблиці:"
   ]
  },
  {
   "cell_type": "markdown",
   "id": "fbfb7235",
   "metadata": {},
   "source": [
    "|  Y\\X | 0          | 1        |2            |3           |  P(y)  |\n",
    "|:---  | :---:      | :---:    | :---:       | :---:      |        |\n",
    "|   0  | 0          | 0        |  0          | $C^0_3p^0q^3$|        |\n",
    "|   1  | 0          | 0        | $C^1_3p^1q^2$|0          |        |\n",
    "|   2  | 0          |$C^2_3p^2q^1$ |0         |0          |        |\n",
    "|   3  |  $ C^3_3p^3q^0$ |0         |0          |0         |        |\n",
    "| P(x) |            |          |             |            |        |"
   ]
  },
  {
   "cell_type": "markdown",
   "id": "2577c22f",
   "metadata": {},
   "source": [
    "де $ C^k_np^yq^x$ - ймовірність появи із n деталей k стандартних обчислюється за формулою:"
   ]
  },
  {
   "cell_type": "markdown",
   "id": "396b6db7",
   "metadata": {},
   "source": [
    "$ P(XY) = \\frac{n!}{k!(n-k)!} ∙ p^yq^x $"
   ]
  },
  {
   "cell_type": "markdown",
   "id": "ed13e10f",
   "metadata": {},
   "source": [
    "$C^0_3p^3q^0 = $ "
   ]
  },
  {
   "cell_type": "code",
   "execution_count": 14,
   "id": "f6c53da3",
   "metadata": {},
   "outputs": [
    {
     "data": {
      "text/plain": [
       "0.06400000000000002"
      ]
     },
     "execution_count": 14,
     "metadata": {},
     "output_type": "execute_result"
    }
   ],
   "source": [
    "1 * 0.6**0 * 0.4**3"
   ]
  },
  {
   "cell_type": "markdown",
   "id": "0681ff24",
   "metadata": {},
   "source": [
    "$C^1_3p^1q^2 = $"
   ]
  },
  {
   "cell_type": "code",
   "execution_count": 5,
   "id": "2cc6db9d",
   "metadata": {},
   "outputs": [
    {
     "data": {
      "text/plain": [
       "0.28800000000000003"
      ]
     },
     "execution_count": 5,
     "metadata": {},
     "output_type": "execute_result"
    }
   ],
   "source": [
    "2*3/2 * 0.6**1 * 0.4**2"
   ]
  },
  {
   "cell_type": "markdown",
   "id": "f3ec2792",
   "metadata": {},
   "source": [
    "$C^2_3p^2q^1 = $"
   ]
  },
  {
   "cell_type": "code",
   "execution_count": 7,
   "id": "544fd6ed",
   "metadata": {},
   "outputs": [
    {
     "data": {
      "text/plain": [
       "0.43200000000000005"
      ]
     },
     "execution_count": 7,
     "metadata": {},
     "output_type": "execute_result"
    }
   ],
   "source": [
    "6/2 * 0.6**2 * 0.4**1"
   ]
  },
  {
   "cell_type": "markdown",
   "id": "8d5a9cf9",
   "metadata": {},
   "source": [
    "$ C^3_3p^3q^0 = $"
   ]
  },
  {
   "cell_type": "code",
   "execution_count": 9,
   "id": "fd13f397",
   "metadata": {},
   "outputs": [
    {
     "data": {
      "text/plain": [
       "0.21599999999999997"
      ]
     },
     "execution_count": 9,
     "metadata": {},
     "output_type": "execute_result"
    }
   ],
   "source": [
    "1 * 0.6**3 * 0.4**0 "
   ]
  },
  {
   "cell_type": "markdown",
   "id": "3a1e46b6",
   "metadata": {},
   "source": [
    " Тепер таблиця розподілу системи двох дискретних випадкових величин X і Y має вигляд:"
   ]
  },
  {
   "cell_type": "markdown",
   "id": "d4ccee9e",
   "metadata": {},
   "source": [
    "|  Y\\X | 0          | 1        |2           |3          |  P(y)  |\n",
    "|:---  | :---:      | :---:    | :---:      | :---:     |        |\n",
    "|   0  | 0          | 0        |  0         | 0,064     | 0,064  |\n",
    "|   1  | 0          | 0        | 0,288      | 0         | 0,288  |\n",
    "|   2  | 0          | 0,432    | 0          | 0         | 0,432  |\n",
    "|   3  | 0,216      | 0        | 0          | 0         | 0,216  |\n",
    "| P(x) | 0,216      | 0,432    | 0,288      | 0, 064    |   1    |"
   ]
  },
  {
   "cell_type": "code",
   "execution_count": 22,
   "id": "ceef48b4",
   "metadata": {},
   "outputs": [
    {
     "data": {
      "text/plain": [
       "1.0"
      ]
     },
     "execution_count": 22,
     "metadata": {},
     "output_type": "execute_result"
    }
   ],
   "source": [
    "0.064+0.288+0.432+0.216"
   ]
  },
  {
   "cell_type": "markdown",
   "id": "a9d60356",
   "metadata": {},
   "source": [
    "### 2. Для знаходження коефіцієнта кореляції потрібно обчислити:"
   ]
  },
  {
   "cell_type": "markdown",
   "id": "3297d0e2",
   "metadata": {},
   "source": [
    "### 2.1. Математичне очікування появи стандартних і бракованих деталей X і Y:"
   ]
  },
  {
   "cell_type": "markdown",
   "id": "32b1fa6f",
   "metadata": {},
   "source": [
    "|  X   | 0     | 1     | 2     | 3     |\n",
    "|:---  | :---: | :---: | :---: | :---: |\n",
    "| P(x)  | 0,216 | 0,432 | 0,288 | 0,064 |"
   ]
  },
  {
   "cell_type": "markdown",
   "id": "b8357233",
   "metadata": {},
   "source": [
    "$ M[X] = \\overset{\\infty}\\sum_{i = 1}{x_i ∙ P_i} $"
   ]
  },
  {
   "cell_type": "code",
   "execution_count": 19,
   "id": "b7591513",
   "metadata": {
    "scrolled": true
   },
   "outputs": [
    {
     "data": {
      "text/plain": [
       "1.2"
      ]
     },
     "execution_count": 19,
     "metadata": {},
     "output_type": "execute_result"
    }
   ],
   "source": [
    "0*0.216 + 1 * 0.432 + 2 * 0.288 + 3 * 0.064"
   ]
  },
  {
   "cell_type": "markdown",
   "id": "e4791d81",
   "metadata": {},
   "source": [
    "| Y    | 0     | 1     | 2     | 3     |\n",
    "|:---  | :---: | :---: | :---: | :---: |\n",
    "| P(y) | 0,064 | 0,288 | 0,432 | 0,216 |"
   ]
  },
  {
   "cell_type": "markdown",
   "id": "5df61858",
   "metadata": {},
   "source": [
    "$ M[Y] = \\overset{\\infty}\\sum_{i = 1}{y_i ∙ P_i} $"
   ]
  },
  {
   "cell_type": "code",
   "execution_count": 20,
   "id": "45381ca4",
   "metadata": {},
   "outputs": [
    {
     "data": {
      "text/plain": [
       "1.7999999999999998"
      ]
     },
     "execution_count": 20,
     "metadata": {},
     "output_type": "execute_result"
    }
   ],
   "source": [
    "0 * 0.064 + 1 * 0.288 + 2 * 0.432 + 3 * 0.216"
   ]
  },
  {
   "cell_type": "markdown",
   "id": "9301be6a",
   "metadata": {},
   "source": [
    "Математичне очікування появи бракованої деталі **M(X)** дорівнює: **1.2**. \n",
    "\n",
    "Математичне очікування появи стандартної деталі **M(Y)** дорівнює: **1.8**."
   ]
  },
  {
   "cell_type": "markdown",
   "id": "20f68ed4",
   "metadata": {},
   "source": [
    "###  2.2. Рівень розподілу у значеннях випадкових величин відповідно X і Y (дисперсію): "
   ]
  },
  {
   "cell_type": "markdown",
   "id": "4a426d32",
   "metadata": {},
   "source": [
    "$ D[X] = M[X^2] - (M[X])^2 $"
   ]
  },
  {
   "cell_type": "code",
   "execution_count": 23,
   "id": "4420ef03",
   "metadata": {},
   "outputs": [
    {
     "data": {
      "text/plain": [
       "0.7200000000000002"
      ]
     },
     "execution_count": 23,
     "metadata": {},
     "output_type": "execute_result"
    }
   ],
   "source": [
    "(1 * 0.432 + 4 * 0.288 + 9 * 0.064) - 1.2**2"
   ]
  },
  {
   "cell_type": "markdown",
   "id": "79ba2129",
   "metadata": {},
   "source": [
    "$ D[Y] = M[Y^2] - (M[Y])^2 $"
   ]
  },
  {
   "cell_type": "code",
   "execution_count": 24,
   "id": "97f00e1c",
   "metadata": {},
   "outputs": [
    {
     "data": {
      "text/plain": [
       "0.7199999999999998"
      ]
     },
     "execution_count": 24,
     "metadata": {},
     "output_type": "execute_result"
    }
   ],
   "source": [
    "(1 * 0.288 + 4 * 0.432 + 9 * 0.216) - 1.8**2"
   ]
  },
  {
   "cell_type": "markdown",
   "id": "d5249b48",
   "metadata": {},
   "source": [
    "Дисперсія **D(X) = 0,72**\n",
    "\n",
    "Дисперсія **D(Y) = 0,72**"
   ]
  },
  {
   "cell_type": "markdown",
   "id": "132de87a",
   "metadata": {},
   "source": [
    "###  2.3. Середньоквадратичне відхилення X і Y:"
   ]
  },
  {
   "cell_type": "markdown",
   "id": "28363682",
   "metadata": {},
   "source": [
    "$ \\sigma_x = \\sqrt{D(X)} $"
   ]
  },
  {
   "cell_type": "markdown",
   "id": "22421a50",
   "metadata": {},
   "source": [
    "$ \\sigma_y = \\sqrt{D(Y)} $"
   ]
  },
  {
   "cell_type": "code",
   "execution_count": 28,
   "id": "472186dc",
   "metadata": {},
   "outputs": [
    {
     "data": {
      "text/plain": [
       "0.848528137423857"
      ]
     },
     "execution_count": 28,
     "metadata": {},
     "output_type": "execute_result"
    }
   ],
   "source": [
    "0.72**0.5"
   ]
  },
  {
   "cell_type": "markdown",
   "id": "10d62215",
   "metadata": {},
   "source": [
    "Середньоквадратичне відхилення X і Y однакове:\n",
    "    \n",
    "$ \\sigma_x = \\sigma_y  = 0,8485 $"
   ]
  },
  {
   "cell_type": "markdown",
   "id": "1af16279",
   "metadata": {},
   "source": [
    "###  2.4.  Коваріацію X і Y:"
   ]
  },
  {
   "cell_type": "markdown",
   "id": "ef0c0c68",
   "metadata": {},
   "source": [
    "$cov(X,Y) = M(XY) - M(X) ∙ M(Y)$"
   ]
  },
  {
   "cell_type": "markdown",
   "id": "aecd9c94",
   "metadata": {},
   "source": [
    "Математичне очікування добутку $ M(XY) = $"
   ]
  },
  {
   "cell_type": "code",
   "execution_count": 29,
   "id": "f1a3acf9",
   "metadata": {},
   "outputs": [
    {
     "data": {
      "text/plain": [
       "1.44"
      ]
     },
     "execution_count": 29,
     "metadata": {},
     "output_type": "execute_result"
    }
   ],
   "source": [
    "0*(0*0+1*0+2*0+0.216)+1*(0*00+1*0+2*0.432+3*0)+2*(0*0+1*0.288+2*0+3*0)+3*(0*0.064+1*0+2*0+3*0)"
   ]
  },
  {
   "cell_type": "code",
   "execution_count": 30,
   "id": "9598e52c",
   "metadata": {},
   "outputs": [
    {
     "data": {
      "text/plain": [
       "-0.7200000000000002"
      ]
     },
     "execution_count": 30,
     "metadata": {},
     "output_type": "execute_result"
    }
   ],
   "source": [
    "1.44 - 1.2*1.8"
   ]
  },
  {
   "cell_type": "markdown",
   "id": "57019b54",
   "metadata": {},
   "source": [
    "Коваріація:\n",
    "\n",
    "$cov(XY)$ = **- 0.72**"
   ]
  },
  {
   "cell_type": "markdown",
   "id": "02bd7539",
   "metadata": {},
   "source": [
    "### Коефіцієнт кореляції:"
   ]
  },
  {
   "cell_type": "markdown",
   "id": "bb03acf1",
   "metadata": {},
   "source": [
    "$ r_{xy} = \\frac{cov(X,Y)}{\\sigma_x ∙  \\sigma_y} $"
   ]
  },
  {
   "cell_type": "code",
   "execution_count": 34,
   "id": "4f1d4360",
   "metadata": {},
   "outputs": [
    {
     "data": {
      "text/plain": [
       "-1.0000663238430048"
      ]
     },
     "execution_count": 34,
     "metadata": {},
     "output_type": "execute_result"
    }
   ],
   "source": [
    "(-0.72)/(0.8485*0.8485)"
   ]
  },
  {
   "cell_type": "markdown",
   "id": "0badbd5e",
   "metadata": {},
   "source": [
    "Коефіцієнт кореляції \n",
    "\n",
    "$ r_{xy} = - 1$"
   ]
  },
  {
   "cell_type": "markdown",
   "id": "966914a2",
   "metadata": {},
   "source": [
    "### Відповідь: "
   ]
  },
  {
   "cell_type": "markdown",
   "id": "b64b5fe3",
   "metadata": {},
   "source": [
    "Математичне очікування появи бракованої деталі **X** дорівнює: **1.2**. \n",
    "\n",
    "Математичне очікування появи стандартної деталі **Y** дорівнює: **1.8**.\n",
    "\n",
    "Дисперсія **D(X) = 0,72**\n",
    "\n",
    "Дисперсія **D(Y) = 0,72**\n",
    "\n",
    "Середньоквадратичне відхилення X і Y однакове:\n",
    "    \n",
    "$ \\sigma(X) = \\sigma(Y)  = 0,8485 $\n",
    "\n",
    "Математичне очікування добутку $ M(XY) $ дорівнює **1.44**\n",
    "\n",
    "Коефіціент коваріації $ cov(XY) $ дорівнює **- 0.72**\n",
    "\n",
    "Коефіціент кореляції $ r_{xy} $  дорівнює **-1**"
   ]
  },
  {
   "cell_type": "markdown",
   "id": "59c0e553",
   "metadata": {},
   "source": [
    "Це означає, що події X і Y взаємовиключні: поява стандартної деталі виключає появу бракованої деталі і навпаки."
   ]
  }
 ],
 "metadata": {
  "kernelspec": {
   "display_name": "Python 3 (ipykernel)",
   "language": "python",
   "name": "python3"
  },
  "language_info": {
   "codemirror_mode": {
    "name": "ipython",
    "version": 3
   },
   "file_extension": ".py",
   "mimetype": "text/x-python",
   "name": "python",
   "nbconvert_exporter": "python",
   "pygments_lexer": "ipython3",
   "version": "3.10.7"
  }
 },
 "nbformat": 4,
 "nbformat_minor": 5
}
