{
 "cells": [
  {
   "cell_type": "code",
   "execution_count": 1,
   "id": "5acef0c7",
   "metadata": {},
   "outputs": [
    {
     "name": "stdout",
     "output_type": "stream",
     "text": [
      "[0.99993704]\n"
     ]
    }
   ],
   "source": [
    "from numpy import exp, array, random, dot\n",
    "training_set_inputs = array([[0, 0, 1], [1, 1, 1], [1, 0, 1], [0, 1, 1]])\n",
    "training_set_outputs = array([[0, 1, 1, 0]]).T\n",
    "random.seed(1)\n",
    "synaptic_weights = 2 * random.random((3, 1)) - 1\n",
    "for iteration in range(10000):\n",
    "    output = 1 / (1 + exp(-(dot(training_set_inputs, synaptic_weights))))\n",
    "    synaptic_weights += dot(training_set_inputs.T, (training_set_outputs - output) * output * (1 - output))\n",
    "print(1 / (1 + exp(-(dot(array([1, 0, 0]), synaptic_weights)))))"
   ]
  },
  {
   "cell_type": "code",
   "execution_count": 2,
   "id": "0adc5631",
   "metadata": {},
   "outputs": [],
   "source": [
    "class NeuralNetwork():\n",
    "    def __init__(self):\n",
    "        # Початок генератора випадкових чисел, який генерує однакові числа\n",
    "        # кожного разу, коли програма запускається.\n",
    "        random.seed(1)\n",
    "\n",
    "        # Моделюємо один нейрон із 3 вхідними з’єднаннями та 1 з вихідним з’єднанням.\n",
    "        # Призначаємо випадкові ваги матриці 3 x 1 зі значеннями в діапазоні від -1 до 1 і 0.\n",
    "        self.synaptic_weights = 2 * random.random((3, 1)) - 1\n",
    "\n",
    "    # Сигмоїдна функція, яка описує S-подібну криву.\n",
    "    # Ми передаємо зважену суму вхідних даних через цю функцію\n",
    "    # нормалізуємо їх між 0 і 1.\n",
    "    def __sigmoid(self, x):\n",
    "        return 1 / (1 + exp(-x))\n",
    "\n",
    "    # Похідна сигмоїдної функції - градієнт сигмоїдної кривої.\n",
    "    # Показує, наскільки ми впевнені в наявній вазі.\n",
    "    def __sigmoid_derivative(self, x):\n",
    "        return x * (1 - x)\n",
    "\n",
    "    # Навчаємо нейронну мережу методом проб і помилок.\n",
    "    # Щоразу Коригємо синаптичні ваги.\n",
    "    def train(self, training_set_inputs, training_set_outputs, number_of_training_iterations):\n",
    "        for iteration in range(number_of_training_iterations):\n",
    "            # Пропускаємо навчальний набір через нашу нейронну мережу (окремий нейрон)\n",
    "            output = self.think(training_set_inputs)\n",
    "\n",
    "            # Обчислюємо похибку (різниця між бажаним результатом і прогнозованим).            \n",
    "            error = training_set_outputs - output\n",
    "\n",
    "            # Пножимо похибку на вхідні дані та знову на градієнт сигмоїдної кривої.\n",
    "            adjustment = dot(training_set_inputs.T, error * self.__sigmoid_derivative(output))\n",
    "\n",
    "            # Корегуємо ваги.\n",
    "            self.synaptic_weights += adjustment\n",
    "\n",
    "    # Нейронна мережа виконує розрахунок (\"думає\").\n",
    "    def think(self, inputs):\n",
    "        # Передаємо вхідні дані через нашу нейронну мережу (на наш єдиний нейрон).\n",
    "        return self.__sigmoid(dot(inputs, self.synaptic_weights))"
   ]
  },
  {
   "cell_type": "code",
   "execution_count": 3,
   "id": "66307224",
   "metadata": {},
   "outputs": [
    {
     "name": "stdout",
     "output_type": "stream",
     "text": [
      "Випадкові початкові синаптичні ваги: \n",
      "[[-0.16595599]\n",
      " [ 0.44064899]\n",
      " [-0.99977125]]\n",
      "Нові синаптичні ваги після тренування: \n",
      "[[ 9.67299303]\n",
      " [-0.2078435 ]\n",
      " [-4.62963669]]\n",
      "Враховуючи новий стан [1, 0, 0] -> ?: \n",
      "[0.99993704]\n"
     ]
    }
   ],
   "source": [
    "if __name__ == \"__main__\":\n",
    "\n",
    "    # Ініціалізація нейронної мережі одного нейрона.\n",
    "    neural_network = NeuralNetwork()\n",
    "\n",
    "    print(\"Випадкові початкові синаптичні ваги: \")\n",
    "    print(neural_network.synaptic_weights)\n",
    "\n",
    "    # Навчальний набір. У нас є 4 приклади, кожен з яких складається з 3 вхідних значень\n",
    "    # і 1 вихідне значення.\n",
    "    training_set_inputs = array([[0, 0, 1], [1, 1, 1], [1, 0, 1], [0, 1, 1]])\n",
    "    training_set_outputs = array([[0, 1, 1, 0]]).T\n",
    "\n",
    "    # Навчємо нейронної мережі за допомогою навчального набору.\n",
    "    # Робимо це 10 000 разів і щоразу вносимо невеликі корективи.\n",
    "    neural_network.train(training_set_inputs, training_set_outputs, 10000)\n",
    "\n",
    "    print(\"Нові синаптичні ваги після тренування: \")\n",
    "    print(neural_network.synaptic_weights)\n",
    "\n",
    "    # Перевіяємо нейронну мережу з новим станом.\n",
    "    print(\"Враховуючи новий стан [1, 0, 0] -> ?: \")\n",
    "    print(neural_network.think(array([1, 0, 0])))"
   ]
  }
 ],
 "metadata": {
  "kernelspec": {
   "display_name": "Python 3 (ipykernel)",
   "language": "python",
   "name": "python3"
  },
  "language_info": {
   "codemirror_mode": {
    "name": "ipython",
    "version": 3
   },
   "file_extension": ".py",
   "mimetype": "text/x-python",
   "name": "python",
   "nbconvert_exporter": "python",
   "pygments_lexer": "ipython3",
   "version": "3.10.7"
  }
 },
 "nbformat": 4,
 "nbformat_minor": 5
}
