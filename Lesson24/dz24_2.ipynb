{
 "cells": [
  {
   "cell_type": "markdown",
   "id": "58c9889e",
   "metadata": {},
   "source": [
    "##  Випадкові величини та розподіли"
   ]
  },
  {
   "cell_type": "markdown",
   "id": "a3ad2e1c",
   "metadata": {},
   "source": [
    "### Задача 2"
   ]
  },
  {
   "cell_type": "markdown",
   "id": "aeb89e94",
   "metadata": {},
   "source": [
    "Є можливість вибрати спосіб виробництва і реалізації двох наборів товарів широкого вжитку. За даними відділу маркетингу, яким були проведені дослідження ринку, можливий прибток від виробництва і реалізації Х і Y наведено в таблицях (Х, Y – прибуток у грошових одиницях):"
   ]
  },
  {
   "cell_type": "markdown",
   "id": "413c4091",
   "metadata": {},
   "source": [
    "|  X   | 1000  | 1500  | 2000   |\n",
    "|:---  | :---: | :---: | :---:  |\n",
    "|  P   |  0,5  |  0,3  |  0,2   |"
   ]
  },
  {
   "cell_type": "markdown",
   "id": "6716602b",
   "metadata": {},
   "source": [
    "|  Y   | 1000  | 1500  | 1750   |\n",
    "|:---  | :---: | :---: | :---:  |\n",
    "|  P   |  0,4  |  0,4  |  0,2   |"
   ]
  },
  {
   "cell_type": "markdown",
   "id": "45c55450",
   "metadata": {},
   "source": [
    "Потрібно оцінити ступінь ризику і запропонувати рішення щодо випуску і реалізації одного з наборів товару. "
   ]
  },
  {
   "cell_type": "markdown",
   "id": "55b3fe2a",
   "metadata": {},
   "source": [
    "### Розв'язок"
   ]
  },
  {
   "cell_type": "markdown",
   "id": "3055d879",
   "metadata": {},
   "source": [
    "Щоб оцінити ступінь ризику, потрібно обчислити середньоквадратичне відхилення випадкових величин X і Y за формулою:"
   ]
  },
  {
   "cell_type": "markdown",
   "id": "28363682",
   "metadata": {},
   "source": [
    "$ \\sigma(X) = \\sqrt{D(X)} $"
   ]
  },
  {
   "cell_type": "markdown",
   "id": "22421a50",
   "metadata": {},
   "source": [
    "$ \\sigma(Y) = \\sqrt{D(Y)} $, де"
   ]
  },
  {
   "cell_type": "markdown",
   "id": "96dabe2c",
   "metadata": {},
   "source": [
    "$ D(X) $ і $ D(Y) $ рівень розподілу у значеннях випадкових величин відповідно X і Y, обчислюється за формуло знаходження дисперсії:"
   ]
  },
  {
   "cell_type": "markdown",
   "id": "b1536974",
   "metadata": {},
   "source": [
    "$ D[X] = M[X^2] - (M[X])^2 $"
   ]
  },
  {
   "cell_type": "markdown",
   "id": "2d639362",
   "metadata": {},
   "source": [
    "$ D[Y] = M[Y^2] - (M[Y])^2 $, де "
   ]
  },
  {
   "cell_type": "markdown",
   "id": "1af16279",
   "metadata": {},
   "source": [
    "$ M[X], M[Y] $ - математичне очікування можливогоо прибутку, обчилюється за формулою:"
   ]
  },
  {
   "cell_type": "markdown",
   "id": "d4df8aac",
   "metadata": {},
   "source": [
    "$ M[X] = \\overset{\\infty}\\sum_{i = 1}{x_i ∙ P_i} $"
   ]
  },
  {
   "cell_type": "markdown",
   "id": "f1e80a48",
   "metadata": {},
   "source": [
    "$ M[Y] = \\overset{\\infty}\\sum_{i = 1}{y_i ∙ P_i} $"
   ]
  },
  {
   "cell_type": "markdown",
   "id": "608f13f8",
   "metadata": {},
   "source": [
    "### 1. Обчислюємо математичне очікування можливого прибутку для величин X і Y:"
   ]
  },
  {
   "cell_type": "markdown",
   "id": "de41a71d",
   "metadata": {},
   "source": [
    "$ M[X] = 1000 ∙ 0,5 + 1500 ∙ 0,3 + 2000 ∙ 0,2 = 500 + 450 + 4000 = 1350 $"
   ]
  },
  {
   "cell_type": "markdown",
   "id": "495f49cb",
   "metadata": {},
   "source": [
    "$ M[Y] = 1000 ∙ 0,4 + 1500 ∙ 0,4 + 1750 ∙ 0,2 = 400 + 600 + 350 = 1350 $"
   ]
  },
  {
   "cell_type": "markdown",
   "id": "b3ffc520",
   "metadata": {},
   "source": [
    "Обидва варіанти мають однакове математичне очікування можливого прибутку."
   ]
  },
  {
   "cell_type": "markdown",
   "id": "70cf51ac",
   "metadata": {},
   "source": [
    "### 2.  Обчислюємо рівень розподілу у значеннях випадкових величин  X і Y:"
   ]
  },
  {
   "cell_type": "markdown",
   "id": "cf3beeb4",
   "metadata": {},
   "source": [
    "Додатково:\n",
    "\n",
    "$ (M[X]^2) = 1000^2 ∙ 0,5 + 1500^2 ∙ 0,3 + 2000^2 ∙ 0,2 = 500000 + 675000 + 800000 = 1975000 $"
   ]
  },
  {
   "cell_type": "markdown",
   "id": "4670a0c2",
   "metadata": {},
   "source": [
    "$ (M[Y]^2) = 1000^2 ∙ 0,4 + 1500^2 ∙ 0,4 + 1750^2 ∙ 0,2 = 400000 + 900000 + 612500 = 1912500 $"
   ]
  },
  {
   "cell_type": "markdown",
   "id": "85f0065f",
   "metadata": {},
   "source": [
    "-----"
   ]
  },
  {
   "cell_type": "markdown",
   "id": "cbab1c4f",
   "metadata": {},
   "source": [
    "$D[X] = 1975000 - 1350^2 = 152500 $"
   ]
  },
  {
   "cell_type": "markdown",
   "id": "3aa1ae03",
   "metadata": {},
   "source": [
    "$D[Y] = 1912000 - 1350^2 = 90000 $"
   ]
  },
  {
   "cell_type": "markdown",
   "id": "8632e34c",
   "metadata": {},
   "source": [
    "-----"
   ]
  },
  {
   "cell_type": "markdown",
   "id": "8e206bcc",
   "metadata": {},
   "source": [
    "### 3.  Обчислюємо середньоквадратичне відхилення випадкових величин  X і Y:"
   ]
  },
  {
   "cell_type": "markdown",
   "id": "fe55272e",
   "metadata": {},
   "source": [
    "$ \\sigma(X) = \\sqrt{D(152500)} = 390,5 $"
   ]
  },
  {
   "cell_type": "markdown",
   "id": "bb447961",
   "metadata": {},
   "source": [
    "$ \\sigma(Y = \\sqrt{D(90000)} = 300 $"
   ]
  },
  {
   "cell_type": "markdown",
   "id": "966914a2",
   "metadata": {},
   "source": [
    "### Відповідь: "
   ]
  },
  {
   "cell_type": "markdown",
   "id": "0b8c6fab",
   "metadata": {},
   "source": [
    "### Ступінь ризику, пов’язаний з виробництвом і реалізацією набору Х, становить 390,5;\n",
    "### Ступінь ризику, пов’язаний з виробництвом і реалізацією набору Y, становить 300.\n",
    "### Можна зробити висновок, так як ступінь ризику X  більший, \n",
    "## варіант Y менш ризикований"
   ]
  }
 ],
 "metadata": {
  "kernelspec": {
   "display_name": "Python 3 (ipykernel)",
   "language": "python",
   "name": "python3"
  },
  "language_info": {
   "codemirror_mode": {
    "name": "ipython",
    "version": 3
   },
   "file_extension": ".py",
   "mimetype": "text/x-python",
   "name": "python",
   "nbconvert_exporter": "python",
   "pygments_lexer": "ipython3",
   "version": "3.10.7"
  }
 },
 "nbformat": 4,
 "nbformat_minor": 5
}
