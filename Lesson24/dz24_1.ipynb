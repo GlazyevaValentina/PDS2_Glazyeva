{
 "cells": [
  {
   "cell_type": "markdown",
   "id": "58c9889e",
   "metadata": {},
   "source": [
    "##  Випадкові величини та розподіли"
   ]
  },
  {
   "cell_type": "markdown",
   "id": "a3ad2e1c",
   "metadata": {},
   "source": [
    "### Задача 1"
   ]
  },
  {
   "cell_type": "markdown",
   "id": "aeb89e94",
   "metadata": {},
   "source": [
    "Два економісти заповнюють документи власними прогнозами щодо курсу певних коштовних паперів, після чого їх складають у спільну папку. Ймовірність відхилення прогнозованого значення курсу від фактичного понад допустиму похибку для першого економіста дорівнює 0,1, для другого - 0,2.\n",
    "\n",
    "Перший економіст заповнив 40 документів, другий - 60. Під час перевірки навмання взятий з папки документ виявився з суттєвою похибкою.\n",
    "\n",
    "Визначити ймовірність того, що його склав перший економіст."
   ]
  },
  {
   "cell_type": "markdown",
   "id": "55b3fe2a",
   "metadata": {},
   "source": [
    "### Розв'язок"
   ]
  },
  {
   "cell_type": "markdown",
   "id": "3055d879",
   "metadata": {},
   "source": [
    "Подія А = {навмання взятий з папки документ виявився з суттєвою похибкою}"
   ]
  },
  {
   "cell_type": "markdown",
   "id": "b1536974",
   "metadata": {},
   "source": [
    "$ E_1 $ = {документ заповнив перший економіст}"
   ]
  },
  {
   "cell_type": "markdown",
   "id": "951374fe",
   "metadata": {},
   "source": [
    "$ E_2 $ = {документ заповнив другий економіст}"
   ]
  },
  {
   "cell_type": "markdown",
   "id": "608f13f8",
   "metadata": {},
   "source": [
    "### a) Застосовуємо формулу повної ймовірності"
   ]
  },
  {
   "cell_type": "markdown",
   "id": "a74c805c",
   "metadata": {},
   "source": [
    "$ P(A) = P(E_1) ∙ P(A/E_1) + P(E_2) ∙ P(A/E_2) $"
   ]
  },
  {
   "cell_type": "markdown",
   "id": "05c8a3e6",
   "metadata": {},
   "source": [
    "$ P(E_1) = \\frac{40}{100} = 0,4 $\n",
    "\n",
    "$ P(E_2) = \\frac{60}{100} = 0,6 $"
   ]
  },
  {
   "cell_type": "markdown",
   "id": "a5b6978d",
   "metadata": {},
   "source": [
    "$ P(A/E_1) = 0,1 $\n",
    "\n",
    "$ P(A/E_2) = 0,2 $"
   ]
  },
  {
   "cell_type": "markdown",
   "id": "3d19eb8c",
   "metadata": {},
   "source": [
    "$ P(A) = 0,4 ∙ 0,1 + 0,6 ∙ 0,2 = 0,04 + 0,12 = 0,16 $"
   ]
  },
  {
   "cell_type": "markdown",
   "id": "70cf51ac",
   "metadata": {},
   "source": [
    "### б) Застосовуємо формулу Байєса"
   ]
  },
  {
   "cell_type": "markdown",
   "id": "fa7ccade",
   "metadata": {},
   "source": [
    "$ P(E_1/A) = \\frac{P(E_1) ∙ P(A/E_1)}{ P(E_1) ∙ P(A/E_1) +  P(E_2) ∙ P(A/E_2)}$"
   ]
  },
  {
   "cell_type": "markdown",
   "id": "b12823e9",
   "metadata": {},
   "source": [
    "$ P(E_1/A) = \\frac{0,4 ∙ 0,1}{0,16} = 0,25 $"
   ]
  },
  {
   "cell_type": "markdown",
   "id": "966914a2",
   "metadata": {},
   "source": [
    "### Відповідь: "
   ]
  },
  {
   "cell_type": "markdown",
   "id": "0b8c6fab",
   "metadata": {},
   "source": [
    "### Ймовірність того, що навмання взятий з папки документ склав перший економіст\n",
    "## 0,25"
   ]
  }
 ],
 "metadata": {
  "kernelspec": {
   "display_name": "Python 3 (ipykernel)",
   "language": "python",
   "name": "python3"
  },
  "language_info": {
   "codemirror_mode": {
    "name": "ipython",
    "version": 3
   },
   "file_extension": ".py",
   "mimetype": "text/x-python",
   "name": "python",
   "nbconvert_exporter": "python",
   "pygments_lexer": "ipython3",
   "version": "3.10.7"
  }
 },
 "nbformat": 4,
 "nbformat_minor": 5
}
