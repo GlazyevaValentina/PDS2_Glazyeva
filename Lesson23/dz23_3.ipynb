{
 "cells": [
  {
   "cell_type": "markdown",
   "id": "58c9889e",
   "metadata": {},
   "source": [
    "## Випадкові події"
   ]
  },
  {
   "cell_type": "markdown",
   "id": "272b1bfe",
   "metadata": {},
   "source": [
    "------"
   ]
  },
  {
   "cell_type": "markdown",
   "id": "a3ad2e1c",
   "metadata": {},
   "source": [
    "### Задача3"
   ]
  },
  {
   "cell_type": "markdown",
   "id": "aeb89e94",
   "metadata": {},
   "source": [
    "Два верстати-автомати виготовляють однакові вироби, які попадають на загальний конвеєр. Продуктивність першого автомата в два рази більше ніж продуктивність другого. Перший верстат-автомат виготовляє 60% виробів вищого гатунку, а другий - 84%.\n",
    "\n",
    "а) Знайти ймовірність того, що навмання взятий з конвеєра виріб вищого гатунку.\n",
    "\n",
    "б) Навмання взятий з конвеєра виріб має вищий гатунок. Знайти ймовірність того, що він виготовлений на першому верстаті."
   ]
  },
  {
   "cell_type": "markdown",
   "id": "55b3fe2a",
   "metadata": {},
   "source": [
    "### Розв'язок"
   ]
  },
  {
   "cell_type": "markdown",
   "id": "3055d879",
   "metadata": {},
   "source": [
    "Подія А = {навмання взятий з конвеєра виріб має вищий гатуток}"
   ]
  },
  {
   "cell_type": "markdown",
   "id": "b1536974",
   "metadata": {},
   "source": [
    "$ V_1 $ = {навмання взятий з конвеєра виріб виготовлено на першому верстаті }"
   ]
  },
  {
   "cell_type": "markdown",
   "id": "da5234b9",
   "metadata": {},
   "source": [
    "$ V_2 $ = {навмання взятий з конвеєра виріб виготовлено на другому верстаті }"
   ]
  },
  {
   "cell_type": "markdown",
   "id": "608f13f8",
   "metadata": {},
   "source": [
    "### a) Застосовуємо формулу повної ймовірності"
   ]
  },
  {
   "cell_type": "markdown",
   "id": "a74c805c",
   "metadata": {},
   "source": [
    "$ P(A) = P(V_1) ∙ P(A/V_1) + P(V_2) ∙ P(A/V_2) $"
   ]
  },
  {
   "cell_type": "markdown",
   "id": "05c8a3e6",
   "metadata": {},
   "source": [
    "$ P(V_1) = \\frac{2}{3} $\n",
    "\n",
    "$ P(V_2) = \\frac{1}{3} $"
   ]
  },
  {
   "cell_type": "markdown",
   "id": "a5b6978d",
   "metadata": {},
   "source": [
    "$ P(A/V_1) = \\frac{60}{100} = 0,6 $\n",
    "\n",
    "$ P(A/V_2) = \\frac{84}{100} = 0,84 $"
   ]
  },
  {
   "cell_type": "markdown",
   "id": "3d19eb8c",
   "metadata": {},
   "source": [
    "$ P(A) = \\frac{2}{3} ∙ 0,6 + \\frac{1}{3} ∙ 0,84 = 0,4 + 0,28 = 0,68 $"
   ]
  },
  {
   "cell_type": "markdown",
   "id": "70cf51ac",
   "metadata": {},
   "source": [
    "### б) Застосовуємо формулу Байєса"
   ]
  },
  {
   "cell_type": "markdown",
   "id": "fa7ccade",
   "metadata": {},
   "source": [
    "$ P(V_1/A) = \\frac{P(V_1) ∙ P(A/V_1)}{ P(V_1) ∙ P(A/V_1) +  P(V_2) ∙ P(A/V_2)}$"
   ]
  },
  {
   "cell_type": "markdown",
   "id": "b12823e9",
   "metadata": {},
   "source": [
    "$ P(V_1/A) = \\frac{\\frac{2}{3} ∙ 0,6}{0,68} \\approx 0,59 $"
   ]
  },
  {
   "cell_type": "markdown",
   "id": "966914a2",
   "metadata": {},
   "source": [
    "### Відповідь: "
   ]
  },
  {
   "cell_type": "markdown",
   "id": "0b8c6fab",
   "metadata": {},
   "source": [
    "### a) Ймовірність того, що навмання взятий з конвеєра виріб вищого гатунку\n",
    "### 0,68"
   ]
  },
  {
   "cell_type": "markdown",
   "id": "f192f7c0",
   "metadata": {},
   "source": [
    "### a) Ймовірність того, що навмання взятий з конвеєра виріб вищого гатунку, виготовлений на першому верстаті\n",
    "### 0,59"
   ]
  }
 ],
 "metadata": {
  "kernelspec": {
   "display_name": "Python 3 (ipykernel)",
   "language": "python",
   "name": "python3"
  },
  "language_info": {
   "codemirror_mode": {
    "name": "ipython",
    "version": 3
   },
   "file_extension": ".py",
   "mimetype": "text/x-python",
   "name": "python",
   "nbconvert_exporter": "python",
   "pygments_lexer": "ipython3",
   "version": "3.10.7"
  }
 },
 "nbformat": 4,
 "nbformat_minor": 5
}
