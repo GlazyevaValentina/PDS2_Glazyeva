{
 "cells": [
  {
   "cell_type": "markdown",
   "id": "58c9889e",
   "metadata": {},
   "source": [
    "## Випадкові події"
   ]
  },
  {
   "cell_type": "markdown",
   "id": "02080ffc",
   "metadata": {},
   "source": [
    "------"
   ]
  },
  {
   "cell_type": "markdown",
   "id": "a3ad2e1c",
   "metadata": {},
   "source": [
    "### Задача2"
   ]
  },
  {
   "cell_type": "markdown",
   "id": "aeb89e94",
   "metadata": {},
   "source": [
    "Для сигналізації про аварію встановлено два  незалежно працюючих сигналізатора. Ймовірність того, що при аварії спрацює перший сигналізатор дорівнює 0,95, ця ж ймовірність для другого сигналізатора дорівнює 0,9. Знайти ймовірність того, що при аварії спрацює:\n",
    "\n",
    "а) хоча б один сигналізатор;\n",
    "\n",
    "б) тільки один сигналізатор."
   ]
  },
  {
   "cell_type": "markdown",
   "id": "55b3fe2a",
   "metadata": {},
   "source": [
    "### Розв'язок"
   ]
  },
  {
   "cell_type": "markdown",
   "id": "4db71d8d",
   "metadata": {},
   "source": [
    "Подія $ А_1 $ = {при аварії спрацює перший сигналізатор }"
   ]
  },
  {
   "cell_type": "markdown",
   "id": "2030b7f7",
   "metadata": {},
   "source": [
    "$ P(A_1) = 0,95 $"
   ]
  },
  {
   "cell_type": "markdown",
   "id": "70aa4817",
   "metadata": {},
   "source": [
    "Подія $ A_2 $ = {при аварії спрацює перший сигналізатор}"
   ]
  },
  {
   "cell_type": "markdown",
   "id": "94f25a62",
   "metadata": {},
   "source": [
    "### a)"
   ]
  },
  {
   "cell_type": "markdown",
   "id": "8a02bde6",
   "metadata": {},
   "source": [
    "Подія  B  = {при аварії спрацює хоча б один сигналізатор }"
   ]
  },
  {
   "cell_type": "markdown",
   "id": "ad644914",
   "metadata": {},
   "source": [
    "$ P(B) = P(A_1) + P(A_2) - P(A_1A_2) = P(A_1) + P(A_2) - P(A_1) ∙ P(A_2) $"
   ]
  },
  {
   "cell_type": "markdown",
   "id": "3c733716",
   "metadata": {},
   "source": [
    "P(B) = 0,95 + 0,9 - 0,95 ∙ 0,9 = 0,995"
   ]
  },
  {
   "cell_type": "markdown",
   "id": "4082ee68",
   "metadata": {},
   "source": [
    "### б) "
   ]
  },
  {
   "cell_type": "markdown",
   "id": "ad2a115c",
   "metadata": {},
   "source": [
    "Подія C = {при аварії спрацює тільки один сигналізатор }"
   ]
  },
  {
   "cell_type": "markdown",
   "id": "9854d9d3",
   "metadata": {},
   "source": [
    "Протилежна подія  $\\overline{А_1}$ = {при аварії не спрацює перший сигналізатор }"
   ]
  },
  {
   "cell_type": "markdown",
   "id": "36568f56",
   "metadata": {},
   "source": [
    "$ P(C) = P(A_1 \\overline{A_2})  + P(\\overline{A_1} A_2 ) = P(A_1) ∙ P(\\overline{A_2}) + P(\\overline{A_1}) ∙ P(A_2)$"
   ]
  },
  {
   "cell_type": "markdown",
   "id": "3b978961",
   "metadata": {},
   "source": [
    "$P(\\overline{A_1}) = 1 - P(A_1) = 1 - 0,95 = 0,05 $"
   ]
  },
  {
   "cell_type": "markdown",
   "id": "119fccbb",
   "metadata": {},
   "source": [
    "$P(\\overline{A_2}) = 1 - P(A_2) = 1 - 0,9 = 0,1 $"
   ]
  },
  {
   "cell_type": "markdown",
   "id": "6476fbd4",
   "metadata": {},
   "source": [
    "P(C) = 0,95 ∙ 0,1 + 0,05 ∙ o,9 = 0,14"
   ]
  },
  {
   "cell_type": "markdown",
   "id": "966914a2",
   "metadata": {},
   "source": [
    "### Відповідь: "
   ]
  },
  {
   "cell_type": "markdown",
   "id": "f192f7c0",
   "metadata": {},
   "source": [
    "### a)  Ймовірність того, що при авапії спрацює хоча б один сигналізатор \n",
    "### 0,995"
   ]
  },
  {
   "cell_type": "markdown",
   "id": "3e123e3c",
   "metadata": {},
   "source": [
    "### б) Ймовірність того, що при авапії спрацює тільки один сигналізатор \n",
    "### 0,14"
   ]
  }
 ],
 "metadata": {
  "kernelspec": {
   "display_name": "Python 3 (ipykernel)",
   "language": "python",
   "name": "python3"
  },
  "language_info": {
   "codemirror_mode": {
    "name": "ipython",
    "version": 3
   },
   "file_extension": ".py",
   "mimetype": "text/x-python",
   "name": "python",
   "nbconvert_exporter": "python",
   "pygments_lexer": "ipython3",
   "version": "3.10.7"
  }
 },
 "nbformat": 4,
 "nbformat_minor": 5
}
