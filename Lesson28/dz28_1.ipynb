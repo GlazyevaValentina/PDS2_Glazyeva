{
 "cells": [
  {
   "cell_type": "markdown",
   "id": "58c9889e",
   "metadata": {},
   "source": [
    "##  Інтервальна оцінка"
   ]
  },
  {
   "cell_type": "markdown",
   "id": "a3ad2e1c",
   "metadata": {},
   "source": [
    "### Задача 1"
   ]
  },
  {
   "cell_type": "markdown",
   "id": "aeb89e94",
   "metadata": {},
   "source": [
    "Із генеральної сукупності, розподіленої за нормальним законом, отримано вибірку об’ємом **n = 20** "
   ]
  },
  {
   "cell_type": "markdown",
   "id": "3adeb2ad",
   "metadata": {},
   "source": [
    "|  $x_i$   |  1     | 2     | 4     | 6     | 7     |\n",
    "|:---  | :---:  | :---: | :---: | :---: | :---: |\n",
    "| $n_i$   |  2     | 3     | 10    | 3     | 2     |"
   ]
  },
  {
   "cell_type": "markdown",
   "id": "c34f5e7c",
   "metadata": {},
   "source": [
    "Знайти з надійністю **$ \\gamma =0,95 $** інтервальну оцінку для середнього квадратичного відхилення $\\sigma$ генеральної сукупності."
   ]
  },
  {
   "cell_type": "markdown",
   "id": "55b3fe2a",
   "metadata": {},
   "source": [
    "### Розв'язок"
   ]
  },
  {
   "cell_type": "markdown",
   "id": "fbe75c2f",
   "metadata": {},
   "source": [
    "Для оцінки середнього квадратичного відхилення $\\sigma$ нормально розподіленої ознаки $Х$ з надійністю за виправленим вибірковим середнім квадратичним відхиленням $S$ використовують довірчі інтервали: \n",
    "\n",
    "$ s ∙ (1 - q) < \\sigma < s ∙ (1 + q)$, для  $ q < 1 $;\n",
    "\n",
    "$ 0 < \\sigma < s ∙ (1 + q)$, для  $q > 1 $, де\n",
    "\n",
    "значення q знаходять із таблиці для заданих n та $\\gamma$"
   ]
  },
  {
   "cell_type": "markdown",
   "id": "2ecb1e8a",
   "metadata": {},
   "source": [
    "**Обчислимо виправлену вибіркову дисперсію s за формулою:**"
   ]
  },
  {
   "cell_type": "markdown",
   "id": "c1183a05",
   "metadata": {},
   "source": [
    "$ s^2 = \\frac{1}{n-1} ∙ \\overset{k}\\sum_{i=1}{(x_i - \\overset{-}x_в)^2 ∙ n_i} $, де"
   ]
  },
  {
   "cell_type": "markdown",
   "id": "f429416f",
   "metadata": {},
   "source": [
    "$\\overset{-}x_в$   вибіркове середнє обчислюється за формулою:"
   ]
  },
  {
   "cell_type": "markdown",
   "id": "66a714d6",
   "metadata": {},
   "source": [
    "$  \\overset{-}x_в = \\frac{1}{n} ∙ \\overset{k}\\sum_{i=1}{x_i  ∙ n_i} $"
   ]
  },
  {
   "cell_type": "code",
   "execution_count": 29,
   "id": "ac35356a",
   "metadata": {},
   "outputs": [
    {
     "data": {
      "text/plain": [
       "4.0"
      ]
     },
     "execution_count": 29,
     "metadata": {},
     "output_type": "execute_result"
    }
   ],
   "source": [
    "(1/20)*(1*2 + 2*3 + 4*10 + 6*3 + 7*2)"
   ]
  },
  {
   "cell_type": "markdown",
   "id": "5997c942",
   "metadata": {},
   "source": [
    "$\\overset{-}x_в = 4 $ "
   ]
  },
  {
   "cell_type": "code",
   "execution_count": 28,
   "id": "74e9d055",
   "metadata": {},
   "outputs": [
    {
     "data": {
      "text/plain": [
       "3.1578947368421053"
      ]
     },
     "execution_count": 28,
     "metadata": {},
     "output_type": "execute_result"
    }
   ],
   "source": [
    "(1/(20-1))*((1-4)**2*2 + (2-4)**2*3 + (4-4)**2*10 + (6-4)**2*3 + (7-4)**2*2)"
   ]
  },
  {
   "cell_type": "markdown",
   "id": "135bcd77",
   "metadata": {},
   "source": [
    "$ s^2 = 3,2 $"
   ]
  },
  {
   "cell_type": "markdown",
   "id": "2d7e4800",
   "metadata": {},
   "source": [
    "$ s =\\sqrt{s^2} = \\sqrt{3,2} = 1,79 $"
   ]
  },
  {
   "cell_type": "code",
   "execution_count": 23,
   "id": "ca587941",
   "metadata": {},
   "outputs": [
    {
     "data": {
      "text/plain": [
       "1.7888543819998317"
      ]
     },
     "execution_count": 23,
     "metadata": {},
     "output_type": "execute_result"
    }
   ],
   "source": [
    "3.2**0.5"
   ]
  },
  {
   "cell_type": "markdown",
   "id": "b94cc213",
   "metadata": {},
   "source": [
    "### $ s = 1,79 $"
   ]
  },
  {
   "cell_type": "markdown",
   "id": "3edce3ee",
   "metadata": {},
   "source": [
    "Із таблиці знаходимо значення **q** для **n = 20** та **$\\gamma = 0,95$**\n",
    "\n",
    "**q = 0,37**."
   ]
  },
  {
   "cell_type": "markdown",
   "id": "8fd4fe2f",
   "metadata": {},
   "source": [
    "Так як **q < 1**, то використовуємо наступну формулу для довірчого інтервалу:"
   ]
  },
  {
   "cell_type": "markdown",
   "id": "b2c755c6",
   "metadata": {},
   "source": [
    "$ s ∙ (1 - q) < \\sigma < s ∙ (1 + q) $"
   ]
  },
  {
   "cell_type": "markdown",
   "id": "5551acaf",
   "metadata": {},
   "source": [
    "**Кінці інтервалу:**\n",
    "\n",
    "$ s ∙ (1 - q) = 1,79 ∙ (1 - 0,37) = 1,13 $\n",
    "\n",
    "$ s ∙ (1 + q) = 1,79 ∙ (1 + 0,37) = 2,45 $"
   ]
  },
  {
   "cell_type": "code",
   "execution_count": 24,
   "id": "d2799493",
   "metadata": {},
   "outputs": [
    {
     "data": {
      "text/plain": [
       "1.1277"
      ]
     },
     "execution_count": 24,
     "metadata": {},
     "output_type": "execute_result"
    }
   ],
   "source": [
    "1.79*(1 - 0.37)"
   ]
  },
  {
   "cell_type": "code",
   "execution_count": 25,
   "id": "0c2825ee",
   "metadata": {},
   "outputs": [
    {
     "data": {
      "text/plain": [
       "2.4523"
      ]
     },
     "execution_count": 25,
     "metadata": {},
     "output_type": "execute_result"
    }
   ],
   "source": [
    "1.79 * (1 + 0.37)"
   ]
  },
  {
   "cell_type": "markdown",
   "id": "93d4b065",
   "metadata": {},
   "source": [
    "**Довірчий інтервал матиме вигляд:**"
   ]
  },
  {
   "cell_type": "markdown",
   "id": "06852cef",
   "metadata": {},
   "source": [
    "$ 1,13 < \\sigma < 2,45 $"
   ]
  },
  {
   "cell_type": "markdown",
   "id": "419ead12",
   "metadata": {},
   "source": [
    "Можна обчислити точність оцінки $ \\delta $:"
   ]
  },
  {
   "cell_type": "code",
   "execution_count": 26,
   "id": "a02a406e",
   "metadata": {},
   "outputs": [
    {
     "data": {
      "text/plain": [
       "0.6600000000000001"
      ]
     },
     "execution_count": 26,
     "metadata": {},
     "output_type": "execute_result"
    }
   ],
   "source": [
    "(2.45 - 1.13)/2"
   ]
  },
  {
   "cell_type": "markdown",
   "id": "45778dba",
   "metadata": {},
   "source": [
    "### Відповідь: "
   ]
  },
  {
   "cell_type": "markdown",
   "id": "b64b5fe3",
   "metadata": {},
   "source": [
    "#### Таким чином, довірчий інтервал  (1,13; 2,45 ) покриває середнє квадратичне відхилення генеральної сукупності з надійністю $ \\gamma = 0,95 $. Точність оцінки 0,66.\n"
   ]
  }
 ],
 "metadata": {
  "kernelspec": {
   "display_name": "Python 3 (ipykernel)",
   "language": "python",
   "name": "python3"
  },
  "language_info": {
   "codemirror_mode": {
    "name": "ipython",
    "version": 3
   },
   "file_extension": ".py",
   "mimetype": "text/x-python",
   "name": "python",
   "nbconvert_exporter": "python",
   "pygments_lexer": "ipython3",
   "version": "3.10.7"
  }
 },
 "nbformat": 4,
 "nbformat_minor": 5
}
