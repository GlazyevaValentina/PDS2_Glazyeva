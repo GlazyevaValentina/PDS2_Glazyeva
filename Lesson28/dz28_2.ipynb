{
 "cells": [
  {
   "cell_type": "markdown",
   "id": "58c9889e",
   "metadata": {},
   "source": [
    "##  Інтервальна оцінка"
   ]
  },
  {
   "cell_type": "markdown",
   "id": "a3ad2e1c",
   "metadata": {},
   "source": [
    "### Задача 2"
   ]
  },
  {
   "cell_type": "markdown",
   "id": "aeb89e94",
   "metadata": {},
   "source": [
    "Знайти з надійністю $ \\gamma = 0,95$ інтервальну оцінку для ймовірності настання події **А** в кожному із **n = 100** незалежних повторних випробувань, якщо подія відбулась **m = 40 раз**.\n"
   ]
  },
  {
   "cell_type": "markdown",
   "id": "55b3fe2a",
   "metadata": {},
   "source": [
    "### Розв'язок"
   ]
  },
  {
   "cell_type": "markdown",
   "id": "dc3379e2",
   "metadata": {},
   "source": [
    "**Для оцінки з надійністю $\\gamma$ ймовірності настання події А в кожному із n незалежних випробувань, якщо подія А відбулась\n",
    "m раз, використовують довірчий інтервал:**"
   ]
  },
  {
   "cell_type": "markdown",
   "id": "0937a6cc",
   "metadata": {},
   "source": [
    "**$ p_1 < p < p_2 $**"
   ]
  },
  {
   "cell_type": "markdown",
   "id": "78c047ab",
   "metadata": {},
   "source": [
    "**Обчислимо межі довірчого інтервалу** за формулами:"
   ]
  },
  {
   "cell_type": "markdown",
   "id": "f5d20c26",
   "metadata": {},
   "source": [
    "$ p_1 = \\frac{1}{t^2 + n} ∙ \\left( m + \\frac{t^2}{2} - t ∙ \\sqrt{\\frac{m ∙ (n - m)}{n} + \\frac{t^2}{4}} \\right) $"
   ]
  },
  {
   "cell_type": "markdown",
   "id": "07e72777",
   "metadata": {},
   "source": [
    "$ p_2 = \\frac{1}{t^2 + n} ∙ \\left( m + \\frac{t^2}{2} + t ∙ \\sqrt{\\frac{m ∙ (n - m)}{n} + \\frac{t^2}{4}} \\right) $"
   ]
  },
  {
   "cell_type": "markdown",
   "id": "61556fad",
   "metadata": {},
   "source": [
    "Параметр **t** знаходимо із таблиці для інтегральної функції Лапласа."
   ]
  },
  {
   "cell_type": "markdown",
   "id": "e37e8c85",
   "metadata": {},
   "source": [
    "**$ \\phi{(t)} = \\frac{\\gamma}{2} = 0,95/2 = 0,475 $**"
   ]
  },
  {
   "cell_type": "markdown",
   "id": "726d6efa",
   "metadata": {},
   "source": [
    "$ t = 1,96 $ згідно таблиці"
   ]
  },
  {
   "cell_type": "markdown",
   "id": "286d2074",
   "metadata": {},
   "source": [
    "$ p_1 = \\frac{1}{(1,96)^2 + 100} ∙ \\left( 40 + \\frac{(1,96)^2}{2} - 1,96 ∙ \\sqrt{\\frac{40 ∙ (100 - 40)}{100} + \\frac{(1,96)^2}{4}} \\right) = 0,31 $"
   ]
  },
  {
   "cell_type": "code",
   "execution_count": 12,
   "id": "8c30baa7",
   "metadata": {
    "scrolled": true
   },
   "outputs": [
    {
     "data": {
      "text/plain": [
       "0.3093997461136028"
      ]
     },
     "execution_count": 12,
     "metadata": {},
     "output_type": "execute_result"
    }
   ],
   "source": [
    "1/(1.96**2 + 100) * (40 + (1.96**2/2) - 1.96*((40*(100-40)/100) + 1.96**2/4)**0.5)"
   ]
  },
  {
   "cell_type": "markdown",
   "id": "6b456718",
   "metadata": {},
   "source": [
    "$ p_2 = \\frac{1}{(1,96)^2 + 100} ∙ \\left( 40 + \\frac{(1,96)^2}{2} + 1,96 ∙ \\sqrt{\\frac{40 ∙ (100 - 40)}{100} + \\frac{(1,96)^2}{4}} \\right) = 0,5 $"
   ]
  },
  {
   "cell_type": "code",
   "execution_count": 13,
   "id": "f5232b94",
   "metadata": {
    "scrolled": true
   },
   "outputs": [
    {
     "data": {
      "text/plain": [
       "0.4979992153815975"
      ]
     },
     "execution_count": 13,
     "metadata": {},
     "output_type": "execute_result"
    }
   ],
   "source": [
    "1/(1.96**2 + 100) * (40 + (1.96**2/2) + 1.96*((40*(100-40)/100) + 1.96**2/4)**0.5)"
   ]
  },
  {
   "cell_type": "markdown",
   "id": "cac56e4f",
   "metadata": {},
   "source": [
    "**$ p_1 = 0,31 $**\n",
    "\n",
    "**$ p_2 = 0,5 $**"
   ]
  },
  {
   "cell_type": "markdown",
   "id": "45778dba",
   "metadata": {},
   "source": [
    "### Відповідь: "
   ]
  },
  {
   "cell_type": "markdown",
   "id": "b64b5fe3",
   "metadata": {},
   "source": [
    "#### Інтервальною оцінкою для ймовірності настання події А буде довірчий інтервал \n",
    "#### (0,31; 0,5).\n"
   ]
  }
 ],
 "metadata": {
  "kernelspec": {
   "display_name": "Python 3 (ipykernel)",
   "language": "python",
   "name": "python3"
  },
  "language_info": {
   "codemirror_mode": {
    "name": "ipython",
    "version": 3
   },
   "file_extension": ".py",
   "mimetype": "text/x-python",
   "name": "python",
   "nbconvert_exporter": "python",
   "pygments_lexer": "ipython3",
   "version": "3.10.7"
  }
 },
 "nbformat": 4,
 "nbformat_minor": 5
}
