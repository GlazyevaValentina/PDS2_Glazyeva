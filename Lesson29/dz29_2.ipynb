{
 "cells": [
  {
   "cell_type": "markdown",
   "id": "58c9889e",
   "metadata": {},
   "source": [
    "##  Перевірка статистичних гіпотез"
   ]
  },
  {
   "cell_type": "markdown",
   "id": "a3ad2e1c",
   "metadata": {},
   "source": [
    "### Задача 2"
   ]
  },
  {
   "cell_type": "markdown",
   "id": "aeb89e94",
   "metadata": {},
   "source": [
    "Випадкова величина $ X $ розподілена рівномірно. Знайти щільність її розподілу, якщо $ P(X\\geq3) = 0,4 $, а математичне сподівання рівне $M(X)=2$"
   ]
  },
  {
   "cell_type": "markdown",
   "id": "55b3fe2a",
   "metadata": {},
   "source": [
    "### Розв'язок"
   ]
  },
  {
   "cell_type": "markdown",
   "id": "9b1080db",
   "metadata": {},
   "source": [
    "**Щільність рівномірного розподілу має вигляд:**"
   ]
  },
  {
   "cell_type": "markdown",
   "id": "15830de5",
   "metadata": {},
   "source": [
    "$  f(x) = \\begin{cases} 0, x < a \\\\ \\frac{1}{b-a}, a \\leq x \\leq b \\\\ 0, x >  b \\end{cases}\\  $, де"
   ]
  },
  {
   "cell_type": "markdown",
   "id": "b34b0ab4",
   "metadata": {},
   "source": [
    "$ a, b $ - кінці діапазону зміни випадкової величини $ X $.\n",
    "\n",
    "Отже потрібно визначити область зміни випадкової величини."
   ]
  },
  {
   "cell_type": "markdown",
   "id": "540ed4f2",
   "metadata": {},
   "source": [
    "**Функція  розподілу рівномірного закону розподілу має вигляд:**"
   ]
  },
  {
   "cell_type": "markdown",
   "id": "7aa18d60",
   "metadata": {},
   "source": [
    "$  F(x) = \\begin{cases} 0, x < a \\\\ \\frac{x - a}{b-a}, a \\leq x \\leq b \\\\ 0, x >  b \\end{cases}\\  $, де"
   ]
  },
  {
   "cell_type": "markdown",
   "id": "8dd84e83",
   "metadata": {},
   "source": [
    "**Математичне сподівання та дисперсія рівномірного закону розподілу дорівнюють:**"
   ]
  },
  {
   "cell_type": "markdown",
   "id": "e8030d7d",
   "metadata": {},
   "source": [
    "$ M(X) = \\frac{a + b}{2} $,\n",
    "\n",
    "$ D(X) = \\frac{(b = a)^2}{12}$"
   ]
  },
  {
   "cell_type": "markdown",
   "id": "b9e57310",
   "metadata": {},
   "source": [
    "Ймовірність того, що рівномірно розподілена випадкова величина $ X $ потрапляє в інтервал $[c;d]$, при чому цей проміжок належить відрізку $[a; b]$:  $[c;d] \\in [a; b]$ , визначається за формулою:"
   ]
  },
  {
   "cell_type": "markdown",
   "id": "cdc44385",
   "metadata": {},
   "source": [
    " $ P(c < X < d) = \\int_c^d\\frac{1}{b - a} ∙ {dx}= \\frac{d-c}{b-a} $,"
   ]
  },
  {
   "cell_type": "markdown",
   "id": "9ab72157",
   "metadata": {},
   "source": [
    "При $ P(X\\geq3) = 0,4 $ в нашому випадку с = 3; d = b"
   ]
  },
  {
   "cell_type": "markdown",
   "id": "0d6b0f83",
   "metadata": {},
   "source": [
    "Складемо систему рівнянь:"
   ]
  },
  {
   "cell_type": "markdown",
   "id": "e050a760",
   "metadata": {},
   "source": [
    "$ \\begin{cases} \\int_3^b \\frac{1}{b-a} ∙ dx = 0,4;  \\\\ \\int_a^b\\frac{x}{b-a} ∙ dx = 2; \\end{cases}\\ $, "
   ]
  },
  {
   "cell_type": "markdown",
   "id": "ae018d83",
   "metadata": {},
   "source": [
    "$ \\begin{cases} \\frac{b-3}{b-a} = 0,4;  \\\\ \\frac{a+b}{2} = 2; \\end{cases}$,"
   ]
  },
  {
   "cell_type": "markdown",
   "id": "c18e7912",
   "metadata": {},
   "source": [
    "$ \\begin{cases} 0,6b + 0,4a = 3;  \\\\ b = 4 - a; \\end{cases}$, $ b = 7, a = -3$."
   ]
  },
  {
   "cell_type": "markdown",
   "id": "6b214cb0",
   "metadata": {},
   "source": [
    "$ f(x) = \\begin{cases} 0, x \\leq - 3;  \\\\ 0,1 - 3 < x \\leq 7; \\\\ 0, x > 7. \\end{cases} $"
   ]
  },
  {
   "cell_type": "markdown",
   "id": "45778dba",
   "metadata": {},
   "source": [
    "### Відповідь: "
   ]
  },
  {
   "cell_type": "markdown",
   "id": "b64b5fe3",
   "metadata": {},
   "source": [
    "**Щільність розподілу випадкової рівномірно розподіленої величини Х, якщо $ P(X\\geq3) = 0,4 $, а математичне сподівання рівне $M(X)=2$ має вигляд:**"
   ]
  },
  {
   "cell_type": "markdown",
   "id": "12d1c2f2",
   "metadata": {},
   "source": [
    "$ f(x) = \\begin{cases} 0, x \\leq - 3;  \\\\ 0,1 - 3 < x \\leq 7; \\\\ 0, x > 7. \\end{cases} $"
   ]
  }
 ],
 "metadata": {
  "kernelspec": {
   "display_name": "Python 3 (ipykernel)",
   "language": "python",
   "name": "python3"
  },
  "language_info": {
   "codemirror_mode": {
    "name": "ipython",
    "version": 3
   },
   "file_extension": ".py",
   "mimetype": "text/x-python",
   "name": "python",
   "nbconvert_exporter": "python",
   "pygments_lexer": "ipython3",
   "version": "3.10.7"
  }
 },
 "nbformat": 4,
 "nbformat_minor": 5
}
