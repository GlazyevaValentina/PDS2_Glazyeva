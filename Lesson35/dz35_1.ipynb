{
 "cells": [
  {
   "cell_type": "markdown",
   "id": "3f891b91",
   "metadata": {},
   "source": [
    "## Linear Regression"
   ]
  },
  {
   "cell_type": "markdown",
   "id": "42d60cf9",
   "metadata": {},
   "source": [
    "### Завдання"
   ]
  },
  {
   "cell_type": "markdown",
   "id": "7b8945c8",
   "metadata": {},
   "source": [
    "Використовуючи дані із файлу **student_scores.csv** побудуйте модель простої регресії для знаходження залежності між значеннями протяжності навчання і середнього балу студентів.\n",
    "\n",
    "Оцініть якість отриманої регресії."
   ]
  },
  {
   "cell_type": "markdown",
   "id": "c2775002",
   "metadata": {},
   "source": [
    "### Розв'язок"
   ]
  },
  {
   "cell_type": "code",
   "execution_count": 123,
   "id": "21e0159e",
   "metadata": {},
   "outputs": [],
   "source": [
    "%matplotlib inline\n",
    "import matplotlib.pyplot as plt\n",
    "import numpy as np\n",
    "import pandas as pd\n",
    "\n",
    "import sklearn\n",
    "from sklearn.linear_model import LinearRegression\n",
    "from sklearn.preprocessing import scale\n",
    "\n",
    "from pylab import rcParams\n",
    "rcParams['figure.figsize'] = 10,8"
   ]
  },
  {
   "cell_type": "code",
   "execution_count": 124,
   "id": "8d48f0b4",
   "metadata": {},
   "outputs": [],
   "source": [
    "data = 'student_scores.csv'"
   ]
  },
  {
   "cell_type": "code",
   "execution_count": 125,
   "id": "8b0c756d",
   "metadata": {},
   "outputs": [
    {
     "data": {
      "text/html": [
       "<div>\n",
       "<style scoped>\n",
       "    .dataframe tbody tr th:only-of-type {\n",
       "        vertical-align: middle;\n",
       "    }\n",
       "\n",
       "    .dataframe tbody tr th {\n",
       "        vertical-align: top;\n",
       "    }\n",
       "\n",
       "    .dataframe thead th {\n",
       "        text-align: right;\n",
       "    }\n",
       "</style>\n",
       "<table border=\"1\" class=\"dataframe\">\n",
       "  <thead>\n",
       "    <tr style=\"text-align: right;\">\n",
       "      <th></th>\n",
       "      <th>Hours</th>\n",
       "      <th>Scores</th>\n",
       "    </tr>\n",
       "  </thead>\n",
       "  <tbody>\n",
       "    <tr>\n",
       "      <th>0</th>\n",
       "      <td>2.5</td>\n",
       "      <td>21</td>\n",
       "    </tr>\n",
       "    <tr>\n",
       "      <th>1</th>\n",
       "      <td>5.1</td>\n",
       "      <td>47</td>\n",
       "    </tr>\n",
       "    <tr>\n",
       "      <th>2</th>\n",
       "      <td>3.2</td>\n",
       "      <td>27</td>\n",
       "    </tr>\n",
       "    <tr>\n",
       "      <th>3</th>\n",
       "      <td>8.5</td>\n",
       "      <td>75</td>\n",
       "    </tr>\n",
       "    <tr>\n",
       "      <th>4</th>\n",
       "      <td>3.5</td>\n",
       "      <td>30</td>\n",
       "    </tr>\n",
       "  </tbody>\n",
       "</table>\n",
       "</div>"
      ],
      "text/plain": [
       "   Hours  Scores\n",
       "0    2.5      21\n",
       "1    5.1      47\n",
       "2    3.2      27\n",
       "3    8.5      75\n",
       "4    3.5      30"
      ]
     },
     "execution_count": 125,
     "metadata": {},
     "output_type": "execute_result"
    }
   ],
   "source": [
    "students = pd.read_csv(data)\n",
    "students.head()"
   ]
  },
  {
   "cell_type": "markdown",
   "id": "9b05d431",
   "metadata": {},
   "source": [
    "Hours = 'Протяжність навчання'\n",
    "\n",
    "Scores = 'Середній бал'"
   ]
  },
  {
   "cell_type": "code",
   "execution_count": 126,
   "id": "44e0fe2c",
   "metadata": {},
   "outputs": [
    {
     "data": {
      "image/png": "[encoded data removed]",
      "text/plain": [
       "<Figure size 1000x800 with 1 Axes>"
      ]
     },
     "metadata": {},
     "output_type": "display_data"
    }
   ],
   "source": [
    "plt.plot(students['Scores'], students['Hours'], 'ro')\n",
    "plt.xlabel('Протяжність навчання')\n",
    "plt.ylabel('Середній бал')\n",
    "plt.show()"
   ]
  },
  {
   "cell_type": "code",
   "execution_count": 127,
   "id": "b90bbc79",
   "metadata": {},
   "outputs": [
    {
     "data": {
      "text/html": [
       "<style>#sk-container-id-2 {color: black;background-color: white;}#sk-container-id-2 pre{padding: 0;}#sk-container-id-2 div.sk-toggleable {background-color: white;}#sk-container-id-2 label.sk-toggleable__label {cursor: pointer;display: block;width: 100%;margin-bottom: 0;padding: 0.3em;box-sizing: border-box;text-align: center;}#sk-container-id-2 label.sk-toggleable__label-arrow:before {content: \"▸\";float: left;margin-right: 0.25em;color: #696969;}#sk-container-id-2 label.sk-toggleable__label-arrow:hover:before {color: black;}#sk-container-id-2 div.sk-estimator:hover label.sk-toggleable__label-arrow:before {color: black;}#sk-container-id-2 div.sk-toggleable__content {max-height: 0;max-width: 0;overflow: hidden;text-align: left;background-color: #f0f8ff;}#sk-container-id-2 div.sk-toggleable__content pre {margin: 0.2em;color: black;border-radius: 0.25em;background-color: #f0f8ff;}#sk-container-id-2 input.sk-toggleable__control:checked~div.sk-toggleable__content {max-height: 200px;max-width: 100%;overflow: auto;}#sk-container-id-2 input.sk-toggleable__control:checked~label.sk-toggleable__label-arrow:before {content: \"▾\";}#sk-container-id-2 div.sk-estimator input.sk-toggleable__control:checked~label.sk-toggleable__label {background-color: #d4ebff;}#sk-container-id-2 div.sk-label input.sk-toggleable__control:checked~label.sk-toggleable__label {background-color: #d4ebff;}#sk-container-id-2 input.sk-hidden--visually {border: 0;clip: rect(1px 1px 1px 1px);clip: rect(1px, 1px, 1px, 1px);height: 1px;margin: -1px;overflow: hidden;padding: 0;position: absolute;width: 1px;}#sk-container-id-2 div.sk-estimator {font-family: monospace;background-color: #f0f8ff;border: 1px dotted black;border-radius: 0.25em;box-sizing: border-box;margin-bottom: 0.5em;}#sk-container-id-2 div.sk-estimator:hover {background-color: #d4ebff;}#sk-container-id-2 div.sk-parallel-item::after {content: \"\";width: 100%;border-bottom: 1px solid gray;flex-grow: 1;}#sk-container-id-2 div.sk-label:hover label.sk-toggleable__label {background-color: #d4ebff;}#sk-container-id-2 div.sk-serial::before {content: \"\";position: absolute;border-left: 1px solid gray;box-sizing: border-box;top: 0;bottom: 0;left: 50%;z-index: 0;}#sk-container-id-2 div.sk-serial {display: flex;flex-direction: column;align-items: center;background-color: white;padding-right: 0.2em;padding-left: 0.2em;position: relative;}#sk-container-id-2 div.sk-item {position: relative;z-index: 1;}#sk-container-id-2 div.sk-parallel {display: flex;align-items: stretch;justify-content: center;background-color: white;position: relative;}#sk-container-id-2 div.sk-item::before, #sk-container-id-2 div.sk-parallel-item::before {content: \"\";position: absolute;border-left: 1px solid gray;box-sizing: border-box;top: 0;bottom: 0;left: 50%;z-index: -1;}#sk-container-id-2 div.sk-parallel-item {display: flex;flex-direction: column;z-index: 1;position: relative;background-color: white;}#sk-container-id-2 div.sk-parallel-item:first-child::after {align-self: flex-end;width: 50%;}#sk-container-id-2 div.sk-parallel-item:last-child::after {align-self: flex-start;width: 50%;}#sk-container-id-2 div.sk-parallel-item:only-child::after {width: 0;}#sk-container-id-2 div.sk-dashed-wrapped {border: 1px dashed gray;margin: 0 0.4em 0.5em 0.4em;box-sizing: border-box;padding-bottom: 0.4em;background-color: white;}#sk-container-id-2 div.sk-label label {font-family: monospace;font-weight: bold;display: inline-block;line-height: 1.2em;}#sk-container-id-2 div.sk-label-container {text-align: center;}#sk-container-id-2 div.sk-container {/* jupyter's `normalize.less` sets `[hidden] { display: none; }` but bootstrap.min.css set `[hidden] { display: none !important; }` so we also need the `!important` here to be able to override the default hidden behavior on the sphinx rendered scikit-learn.org. See: https://github.com/scikit-learn/scikit-learn/issues/21755 */display: inline-block !important;position: relative;}#sk-container-id-2 div.sk-text-repr-fallback {display: none;}</style><div id=\"sk-container-id-2\" class=\"sk-top-container\"><div class=\"sk-text-repr-fallback\"><pre>LinearRegression()</pre><b>In a Jupyter environment, please rerun this cell to show the HTML representation or trust the notebook. <br />On GitHub, the HTML representation is unable to render, please try loading this page with nbviewer.org.</b></div><div class=\"sk-container\" hidden><div class=\"sk-item\"><div class=\"sk-estimator sk-toggleable\"><input class=\"sk-toggleable__control sk-hidden--visually\" id=\"sk-estimator-id-2\" type=\"checkbox\" checked><label for=\"sk-estimator-id-2\" class=\"sk-toggleable__label sk-toggleable__label-arrow\">LinearRegression</label><div class=\"sk-toggleable__content\"><pre>LinearRegression()</pre></div></div></div></div></div>"
      ],
      "text/plain": [
       "LinearRegression()"
      ]
     },
     "execution_count": 127,
     "metadata": {},
     "output_type": "execute_result"
    }
   ],
   "source": [
    "h = students['Hours'].values\n",
    "s = students['Scores'].values\n",
    "\n",
    "X = []\n",
    "for i in h:\n",
    "    X.append([i])\n",
    "\n",
    "\n",
    "y = []\n",
    "for i in s:\n",
    "    y.append([i])\n",
    "\n",
    "\n",
    "LinReg = LinearRegression()\n",
    "LinReg.fit(X,y)"
   ]
  },
  {
   "cell_type": "code",
   "execution_count": 128,
   "id": "bda1e6d6",
   "metadata": {},
   "outputs": [
    {
     "name": "stdout",
     "output_type": "stream",
     "text": [
      "Alfa: [2.48367341]\n",
      "Beta: [[9.77580339]]\n"
     ]
    }
   ],
   "source": [
    "print('Alfa:', LinReg.intercept_)\n",
    "print('Beta:', LinReg.coef_)"
   ]
  },
  {
   "cell_type": "code",
   "execution_count": 129,
   "id": "48bab8de",
   "metadata": {},
   "outputs": [
    {
     "name": "stdout",
     "output_type": "stream",
     "text": [
      "0.9529481969048356\n"
     ]
    }
   ],
   "source": [
    "print(LinReg.score(X, y))"
   ]
  },
  {
   "cell_type": "code",
   "execution_count": 130,
   "id": "56870609",
   "metadata": {},
   "outputs": [
    {
     "data": {
      "text/plain": [
       "array([[65],\n",
       "       [28],\n",
       "       [71],\n",
       "       [73],\n",
       "       [76],\n",
       "       [45],\n",
       "       [72],\n",
       "       [55],\n",
       "       [47]])"
      ]
     },
     "execution_count": 130,
     "metadata": {},
     "output_type": "execute_result"
    }
   ],
   "source": [
    "X_pred = np.random.randint(25,90,(100, 1))\n",
    "X_pred[1:10]"
   ]
  },
  {
   "cell_type": "code",
   "execution_count": 131,
   "id": "4630df84",
   "metadata": {},
   "outputs": [
    {
     "data": {
      "text/plain": [
       "array([[530.37705651],\n",
       "       [637.91089381],\n",
       "       [276.20616835],\n",
       "       [696.56571415],\n",
       "       [716.11732093],\n",
       "       [745.44473111],\n",
       "       [442.39482599],\n",
       "       [706.34151754],\n",
       "       [540.1528599 ],\n",
       "       [461.94643277],\n",
       "       [285.98197174],\n",
       "       [686.78991076],\n",
       "       [569.48027007],\n",
       "       [373.96420226],\n",
       "       [677.01410737],\n",
       "       [549.92866329],\n",
       "       [618.35928702],\n",
       "       [735.66892771],\n",
       "       [618.35928702],\n",
       "       [774.77214128],\n",
       "       [471.72223616],\n",
       "       [373.96420226],\n",
       "       [784.54794467],\n",
       "       [804.09955145],\n",
       "       [246.87875818],\n",
       "       [256.65456157],\n",
       "       [256.65456157],\n",
       "       [706.34151754],\n",
       "       [823.65115823],\n",
       "       [677.01410737],\n",
       "       [677.01410737],\n",
       "       [549.92866329],\n",
       "       [667.23830398],\n",
       "       [325.0851853 ],\n",
       "       [501.04964634],\n",
       "       [393.51580904],\n",
       "       [266.43036496],\n",
       "       [852.9785684 ],\n",
       "       [569.48027007],\n",
       "       [305.53357852],\n",
       "       [276.20616835],\n",
       "       [774.77214128],\n",
       "       [413.06741582],\n",
       "       [647.6866972 ],\n",
       "       [354.41259547],\n",
       "       [696.56571415],\n",
       "       [589.03187685],\n",
       "       [813.87535484],\n",
       "       [452.17062938],\n",
       "       [432.6190226 ],\n",
       "       [735.66892771],\n",
       "       [540.1528599 ],\n",
       "       [559.70446668],\n",
       "       [686.78991076],\n",
       "       [461.94643277],\n",
       "       [618.35928702],\n",
       "       [325.0851853 ],\n",
       "       [501.04964634],\n",
       "       [823.65115823],\n",
       "       [755.2205345 ],\n",
       "       [764.99633789],\n",
       "       [373.96420226],\n",
       "       [325.0851853 ],\n",
       "       [413.06741582],\n",
       "       [354.41259547],\n",
       "       [764.99633789],\n",
       "       [549.92866329],\n",
       "       [334.86098869],\n",
       "       [667.23830398],\n",
       "       [579.25607346],\n",
       "       [246.87875818],\n",
       "       [706.34151754],\n",
       "       [745.44473111],\n",
       "       [657.46250059],\n",
       "       [432.6190226 ],\n",
       "       [628.13509042],\n",
       "       [364.18839886],\n",
       "       [745.44473111],\n",
       "       [794.32374806],\n",
       "       [628.13509042],\n",
       "       [637.91089381],\n",
       "       [393.51580904],\n",
       "       [755.2205345 ],\n",
       "       [344.63679208],\n",
       "       [305.53357852],\n",
       "       [862.75437179],\n",
       "       [774.77214128],\n",
       "       [696.56571415],\n",
       "       [266.43036496],\n",
       "       [501.04964634],\n",
       "       [608.58348363],\n",
       "       [452.17062938],\n",
       "       [589.03187685],\n",
       "       [647.6866972 ],\n",
       "       [393.51580904],\n",
       "       [549.92866329],\n",
       "       [774.77214128],\n",
       "       [589.03187685],\n",
       "       [276.20616835],\n",
       "       [305.53357852]])"
      ]
     },
     "execution_count": 131,
     "metadata": {},
     "output_type": "execute_result"
    }
   ],
   "source": [
    "y_pred = LinReg.predict(X_pred)\n",
    "y_pred"
   ]
  },
  {
   "cell_type": "code",
   "execution_count": 132,
   "id": "b087c17a",
   "metadata": {},
   "outputs": [
    {
     "data": {
      "image/png": "[encoded data removed]",
      "text/plain": [
       "<Figure size 1000x800 with 1 Axes>"
      ]
     },
     "metadata": {},
     "output_type": "display_data"
    }
   ],
   "source": [
    "plt.plot(X_pred, y_pred, 'ro')\n",
    "plt.xlabel('Протяжність навчання')\n",
    "plt.ylabel('Середній бал')\n",
    "plt.show()"
   ]
  },
  {
   "cell_type": "code",
   "execution_count": 133,
   "id": "bc7a53da",
   "metadata": {},
   "outputs": [
    {
     "name": "stdout",
     "output_type": "stream",
     "text": [
      "1.0\n"
     ]
    }
   ],
   "source": [
    "print(LinReg.score(X_pred, y_pred))"
   ]
  },
  {
   "cell_type": "markdown",
   "id": "a3a94cf2",
   "metadata": {},
   "source": [
    "## Висновок"
   ]
  },
  {
   "cell_type": "markdown",
   "id": "85903ffa",
   "metadata": {},
   "source": [
    "## Оскільки перевірочний параметр дорівнює 0,953, регресійна модель максимально достовірна."
   ]
  }
 ],
 "metadata": {
  "kernelspec": {
   "display_name": "Python 3 (ipykernel)",
   "language": "python",
   "name": "python3"
  },
  "language_info": {
   "codemirror_mode": {
    "name": "ipython",
    "version": 3
   },
   "file_extension": ".py",
   "mimetype": "text/x-python",
   "name": "python",
   "nbconvert_exporter": "python",
   "pygments_lexer": "ipython3",
   "version": "3.10.7"
  }
 },
 "nbformat": 4,
 "nbformat_minor": 5
}
