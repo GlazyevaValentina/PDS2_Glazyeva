{
 "cells": [
  {
   "cell_type": "markdown",
   "id": "58c9889e",
   "metadata": {},
   "source": [
    "##  Статистика"
   ]
  },
  {
   "cell_type": "markdown",
   "id": "a3ad2e1c",
   "metadata": {},
   "source": [
    "### Задача 1"
   ]
  },
  {
   "cell_type": "markdown",
   "id": "aeb89e94",
   "metadata": {},
   "source": [
    "Ймовірність того, що телевізор витримає гарантійний термін роботи, дорівнює 0,9 для всіх телевізорів, які обслуговує гарантійна майстерня. Оцінити ймовірність того, що число телевізорів, які витримають гарантійний термін роботи, буде в межах [85: 95]."
   ]
  },
  {
   "cell_type": "markdown",
   "id": "55b3fe2a",
   "metadata": {},
   "source": [
    "### Розв'язок"
   ]
  },
  {
   "cell_type": "markdown",
   "id": "76c967bf",
   "metadata": {},
   "source": [
    "**X** - дискретна випадкова величина - це число телевізорів, які витримають гарантійний термін роботи, має біноміальний закон\n",
    "розподілу ймовірності, тому:"
   ]
  },
  {
   "cell_type": "markdown",
   "id": "dd652167",
   "metadata": {},
   "source": [
    "$ M(X) = n ∙ p = 100 ∙ 0,9 = 90 $\n",
    "\n",
    "$ D(X) = n ∙ p ∙ q = 100 ∙ 0,9 ∙ 0,1 = 9 $"
   ]
  },
  {
   "cell_type": "markdown",
   "id": "ac6eca62",
   "metadata": {},
   "source": [
    "$ \\varepsilon = 95 - 90 = |85 - 90| = 5 $"
   ]
  },
  {
   "cell_type": "markdown",
   "id": "3055d879",
   "metadata": {},
   "source": [
    "### Використаємо нерівність Чебишева:"
   ]
  },
  {
   "cell_type": "markdown",
   "id": "396b6db7",
   "metadata": {},
   "source": [
    "$ P(|X - M(X)| \\leq  \\varepsilon  ) \\geq 1 -  \\frac{D(X)}{\\varepsilon^2} $"
   ]
  },
  {
   "cell_type": "markdown",
   "id": "ed13e10f",
   "metadata": {},
   "source": [
    "$ P(|X - 90| \\leq 5) \\geq 1 - \\frac{9}{5^2} =  \\frac{25}{25} - \\frac{9}{25} = \\frac{16}{25} = 0,64 $ "
   ]
  },
  {
   "cell_type": "code",
   "execution_count": 3,
   "id": "7a8064c1",
   "metadata": {},
   "outputs": [
    {
     "data": {
      "text/plain": [
       "0.64"
      ]
     },
     "execution_count": 3,
     "metadata": {},
     "output_type": "execute_result"
    }
   ],
   "source": [
    "16/25"
   ]
  },
  {
   "cell_type": "markdown",
   "id": "966914a2",
   "metadata": {},
   "source": [
    "### Відповідь: "
   ]
  },
  {
   "cell_type": "markdown",
   "id": "b64b5fe3",
   "metadata": {},
   "source": [
    "Ймовірність того, що число телевізорів, які витримають гарантійний термін роботи, буде в межах [85: 95] складає\n",
    "\n",
    "**0,64**"
   ]
  }
 ],
 "metadata": {
  "kernelspec": {
   "display_name": "Python 3 (ipykernel)",
   "language": "python",
   "name": "python3"
  },
  "language_info": {
   "codemirror_mode": {
    "name": "ipython",
    "version": 3
   },
   "file_extension": ".py",
   "mimetype": "text/x-python",
   "name": "python",
   "nbconvert_exporter": "python",
   "pygments_lexer": "ipython3",
   "version": "3.10.7"
  }
 },
 "nbformat": 4,
 "nbformat_minor": 5
}
